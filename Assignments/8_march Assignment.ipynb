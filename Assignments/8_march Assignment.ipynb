{
 "cells": [
  {
   "cell_type": "markdown",
   "id": "10124ba8",
   "metadata": {},
   "source": [
    "# Q1) What is the Probability density function?"
   ]
  },
  {
   "cell_type": "markdown",
   "id": "5c2624d8",
   "metadata": {},
   "source": [
    "## Answer:-"
   ]
  },
  {
   "cell_type": "markdown",
   "id": "4e3331dd",
   "metadata": {},
   "source": [
    "Probability density function is a function that provides the likelihood that the value of a random variable will fall between a certain range of values. We use the probability density function in the case of continuous random variables. For discrete random variables, we use the probability mass function which is analogous to the probability density function.\n",
    "\n",
    "The PDF of a continuous random variable is defined as the derivative of its cumulative distribution function (CDF). The CDF gives the probability that a random variable takes on a value less than or equal to a given value.\n",
    "\n",
    "The PDF is used to calculate the probability that a random variable falls within a certain range of values, by integrating the PDF over that range. The area under the PDF curve represents the total probability of all possible values of the random variable.\n",
    "\n",
    "In summary, the PDF provides a way to quantify the probability distribution of a continuous random variable, making it a useful tool in many fields including statistics, physics, and engineering."
   ]
  },
  {
   "cell_type": "markdown",
   "id": "9ade5bd9",
   "metadata": {},
   "source": [
    "# Q2)  What are the types of Probability distribution?"
   ]
  },
  {
   "cell_type": "markdown",
   "id": "39d4a745",
   "metadata": {},
   "source": [
    "# Answer:-"
   ]
  },
  {
   "cell_type": "markdown",
   "id": "b64823a9",
   "metadata": {},
   "source": [
    "1) Normal distribution: Also known as the Gaussian distribution, it is one of the most important distributions in statistics. It is often used to model natural phenomena such as the heights and weights of a population, and it is characterized by a bell-shaped curve\n",
    "    \n",
    "2) Binomial distribution: This distribution describes the number of successes in a fixed number of independent trials, where each trial has the same probability of success. It is often used in experiments where there are only two possible outcomes, such as coin flips or medical treatments.\n",
    "    \n",
    "3) Binomial distribution: This distribution describes the number of successes in a fixed number of independent trials, where each trial has the same probability of success. It is often used in experiments where there are only two possible outcomes, such as coin flips or medical treatments.\n",
    "    \n",
    "4) Exponential distribution: This distribution describes the time between two successive events in a Poisson process. It is often used in modeling the lifetimes of electronic components or the time between customer arrivals at a store.\n",
    "    \n",
    "5) Uniform distribution: This distribution describes a random variable that is equally likely to take on any value within a certain range. It is often used in simulation models or in random number generation.\n",
    "    "
   ]
  },
  {
   "cell_type": "markdown",
   "id": "9f27e400",
   "metadata": {},
   "source": [
    "# Q3)  Write a Python function to calculate the probability density function of a normal distribution with given mean and standard deviation at a given point."
   ]
  },
  {
   "cell_type": "markdown",
   "id": "08429f27",
   "metadata": {},
   "source": [
    "## Answer:-"
   ]
  },
  {
   "cell_type": "code",
   "execution_count": 1,
   "id": "6d9bfa80",
   "metadata": {},
   "outputs": [],
   "source": [
    "import math\n",
    "\n",
    "def normal_pdf(x, mean, std_dev):\n",
    "    \"\"\"\n",
    "    Calculates the probability density function (PDF) of a normal distribution\n",
    "    with a given mean and standard deviation at a given point x.\n",
    "    \"\"\"\n",
    "    variance = std_dev ** 2\n",
    "    exponent = -((x - mean) ** 2) / (2 * variance)\n",
    "    coefficient = 1 / math.sqrt(2 * math.pi * variance)\n",
    "    pdf = coefficient * math.exp(exponent)\n",
    "    return pdf"
   ]
  },
  {
   "cell_type": "code",
   "execution_count": 2,
   "id": "ea7269fc",
   "metadata": {},
   "outputs": [
    {
     "data": {
      "text/plain": [
       "0.2129653370149015"
      ]
     },
     "execution_count": 2,
     "metadata": {},
     "output_type": "execute_result"
    }
   ],
   "source": [
    "normal_pdf(x=3,mean=2,std_dev=1.5)\n"
   ]
  },
  {
   "cell_type": "markdown",
   "id": "81a4b771",
   "metadata": {},
   "source": [
    "# Q4) What are the properties of Binomial distribution? Give two examples of events where binomial distribution can be applied."
   ]
  },
  {
   "cell_type": "markdown",
   "id": "65b79c90",
   "metadata": {},
   "source": [
    "## Answer :-"
   ]
  },
  {
   "cell_type": "markdown",
   "id": "0da851ef",
   "metadata": {},
   "source": [
    "### The Binomial distribution is a discrete probability distribution that describes the number of successes in a fixed number of independent trials, where each trial has the same probability of success. The key properties of the Binomial distribution are:\n",
    "\n",
    "1) The number of trials n is fixed and known in advance.\n",
    "\n",
    "2) Each trial is independent of the others.\n",
    "\n",
    "3) There are only two possible outcomes for each trial: success or failure.\n",
    "\n",
    "4) The probability of success p is the same for each trial.\n",
    "\n",
    "### Some examples of events where the Binomial distribution can be applied are:-\n",
    "\n",
    "1) Flipping a coin multiple times and counting the number of times it lands on heads. Here, each coin flip is an independent trial, and there are only two possible outcomes (heads or tails) with a fixed probability of success (0.5 assuming a fair coin).\n",
    "\n",
    "2) Testing a new drug to see how many patients respond positively. Here, each patient is an independent trial, and there are only two possible outcomes (response or no response) with a fixed probability of success (based on the effectiveness of the drug).\n",
    "\n",
    "### In general, the Binomial distribution is useful in any situation where we want to model the number of successes in a fixed number of independent trials, where each trial has the same probability of success."
   ]
  },
  {
   "cell_type": "markdown",
   "id": "a3a4654f",
   "metadata": {},
   "source": [
    "# Q5) Generate a random sample of size 1000 from a binomial distribution with probability of success 0.4 and plot a histogram of the results using matplotlib."
   ]
  },
  {
   "cell_type": "markdown",
   "id": "9819ae61",
   "metadata": {},
   "source": [
    "## Answer:-"
   ]
  },
  {
   "cell_type": "code",
   "execution_count": 3,
   "id": "2b2d7bc9",
   "metadata": {},
   "outputs": [
    {
     "data": {
      "image/png": "[encoded data removed]",
      "text/plain": [
       "<Figure size 432x288 with 1 Axes>"
      ]
     },
     "metadata": {
      "needs_background": "light"
     },
     "output_type": "display_data"
    }
   ],
   "source": [
    "import numpy as np\n",
    "import matplotlib.pyplot as plt\n",
    "\n",
    "# Generate a random sample of size 1000 from a Binomial distribution\n",
    "n = 1000  # Sample size\n",
    "p = 0.4  # Probability of success\n",
    "sample = np.random.binomial(n, p, size=1000)\n",
    "\n",
    "# Plot a histogram of the results using Fredman diaconis rule i.e. bins='fd'\n",
    "plt.hist(sample,bins='fd',density=True, edgecolor='black')\n",
    "plt.xlabel('Number of Successes')\n",
    "plt.ylabel('Probability')\n",
    "plt.title('Binomial Distribution (n=1000, p=0.4)')\n",
    "plt.show()"
   ]
  },
  {
   "cell_type": "markdown",
   "id": "8aabaa61",
   "metadata": {},
   "source": [
    "# Q6) Write a Python function to calculate the cumulative distribution function of a Poisson distribution with given mean at a given point."
   ]
  },
  {
   "cell_type": "markdown",
   "id": "4c719ee9",
   "metadata": {},
   "source": [
    "## Answer:-"
   ]
  },
  {
   "cell_type": "code",
   "execution_count": 4,
   "id": "e5d44302",
   "metadata": {},
   "outputs": [],
   "source": [
    "import math\n",
    "\n",
    "def poisson_cdf(mean, point):\n",
    "    \"\"\"\n",
    "    Calculates the cumulative distribution function of a \n",
    "    Poisson distribution with given mean at a given point\n",
    "    \"\"\"\n",
    "    cdf = 0\n",
    "    for k in range(point + 1):\n",
    "        cdf = cdf + math.exp(-mean) * pow(mean, k) / math.factorial(k)\n",
    "    return cdf"
   ]
  },
  {
   "cell_type": "code",
   "execution_count": 5,
   "id": "6eebf7d4",
   "metadata": {},
   "outputs": [
    {
     "name": "stdout",
     "output_type": "stream",
     "text": [
      "Poison cdf for mean = 4 at x = 2 is 0.2381\n"
     ]
    }
   ],
   "source": [
    "result = poisson_cdf(mean=4,point=2)\n",
    "print(f'Poison cdf for mean = 4 at x = 2 is {round(result,4)}')"
   ]
  },
  {
   "cell_type": "code",
   "execution_count": 6,
   "id": "493bbc68",
   "metadata": {},
   "outputs": [
    {
     "data": {
      "text/plain": [
       "0.23810330555354436"
      ]
     },
     "execution_count": 6,
     "metadata": {},
     "output_type": "execute_result"
    }
   ],
   "source": [
    "from scipy.stats import poisson\n",
    "poisson.cdf(2,mu=4)"
   ]
  },
  {
   "cell_type": "markdown",
   "id": "d5d3338f",
   "metadata": {},
   "source": [
    "# Q7) How Binomial distribution different from Poisson distribution?"
   ]
  },
  {
   "cell_type": "markdown",
   "id": "73e2966d",
   "metadata": {},
   "source": [
    "## Answer:-"
   ]
  },
  {
   "cell_type": "markdown",
   "id": "912a18d8",
   "metadata": {},
   "source": [
    "The Binomial distribution and Poisson distribution are both discrete probability distributions commonly used in statistics. While they have similarities, they are distinct in their characteristics and applications. Here's how they differ:\n",
    "\n",
    "Definition and Parameters:\n",
    "\n",
    "Binomial Distribution: The Binomial distribution describes the number of successes in a fixed number of independent Bernoulli trials, where each trial has the same probability of success. It is characterized by two parameters: the number of trials (n) and the probability of success (p).\n",
    "Poisson Distribution: The Poisson distribution describes the number of events that occur within a fixed interval of time or space, given a known average rate of occurrence. It is characterized by a single parameter: the average rate or intensity of the events (λ).\n",
    "Nature of Events:\n",
    "\n",
    "Binomial Distribution: The Binomial distribution is suitable for situations where events can be classified as either success or failure, and the probability of success remains constant across all trials.\n",
    "Poisson Distribution: The Poisson distribution is used when events occur randomly in a continuous or discrete interval, and the events are independent of each other. It is often applied to model rare or infrequent events.\n",
    "Assumptions:\n",
    "\n",
    "Binomial Distribution: The Binomial distribution assumes that the trials are independent, the probability of success is constant, and the outcomes of each trial are mutually exclusive.\n",
    "Poisson Distribution: The Poisson distribution assumes that the events occur randomly and independently within the given interval, and the average rate of occurrence remains constant.\n",
    "Probability Mass Function (PMF) and Applications:\n",
    "\n",
    "Binomial Distribution: The probability mass function of the Binomial distribution calculates the probability of getting a specific number of successes (k) in a fixed number of trials (n) with a given probability of success (p). It is commonly used in scenarios such as coin flips, success/failure experiments, or binomial experiments.\n",
    "Poisson Distribution: The probability mass function of the Poisson distribution calculates the probability of observing a specific number of events (k) occurring within a fixed interval, given the average rate of occurrence (λ). It is often used in situations involving rare events, such as modeling the number of phone calls received at a call center within a specific time period.\n",
    "Shape and Limitations:\n",
    "\n",
    "Binomial Distribution: The Binomial distribution is discrete and symmetric in shape when the probability of success is 0.5. It is defined for a finite number of trials (n) and assumes a finite population from which the samples are drawn.\n",
    "Poisson Distribution: The Poisson distribution is also discrete but typically skewed to the right. It extends to infinity and is used for modeling events that can occur an unlimited number of times within a given interval."
   ]
  },
  {
   "cell_type": "markdown",
   "id": "b4a61833",
   "metadata": {},
   "source": [
    "# Q8) Generate a random sample of size 1000 from a Poisson distribution with mean 5 and calculate the sample mean and varianc"
   ]
  },
  {
   "cell_type": "markdown",
   "id": "ae49e733",
   "metadata": {},
   "source": [
    "## Answer:-"
   ]
  },
  {
   "cell_type": "code",
   "execution_count": 7,
   "id": "76c94d51",
   "metadata": {},
   "outputs": [
    {
     "name": "stdout",
     "output_type": "stream",
     "text": [
      "Poission Sample Mean     : 4.985\n",
      "Poission Sample Variance : 4.9967749999999995\n"
     ]
    }
   ],
   "source": [
    "import numpy as np\n",
    "\n",
    "# Set the random seed for reproducibility\n",
    "np.random.seed(42)\n",
    "\n",
    "# Generate a random sample of size 1000 from a Poisson distribution with mean 5\n",
    "sample = np.random.poisson(lam=5, size=1000)\n",
    "\n",
    "# Calculate the sample mean and variance\n",
    "sample_mean = np.mean(sample)\n",
    "sample_var = np.var(sample)\n",
    "\n",
    "# Printing the output\n",
    "print(\"Poission Sample Mean     :\", sample_mean)\n",
    "print(\"Poission Sample Variance :\", sample_var)"
   ]
  },
  {
   "cell_type": "markdown",
   "id": "c8ab12ee",
   "metadata": {},
   "source": [
    "# Q9) How mean and variance are related in Binomial distribution and Poisson distribution?"
   ]
  },
  {
   "cell_type": "markdown",
   "id": "f7126383",
   "metadata": {},
   "source": [
    "## Answer:-"
   ]
  },
  {
   "cell_type": "markdown",
   "id": "d5124be4",
   "metadata": {},
   "source": [
    "### 1. Binomial Distribution\n",
    "In the binomial distribution, the mean (or expected value) and variance are related as follows:\n",
    "\n",
    "    Mean = np\n",
    "    Variance = np(1-p)\n",
    "Where n is the number of trials, p is the probability of success in each trial, np is the expected number of successes, and np(1-p) is the variance.\n",
    "### 2. Poission Distribution\n",
    "In the Poisson distribution, the mean (or expected value) and variance are related as follows:\n",
    "\n",
    "    Mean = Variance = λ\n",
    "where λ is the average number of rare events in the interval."
   ]
  },
  {
   "cell_type": "markdown",
   "id": "9f80ce7c",
   "metadata": {},
   "source": [
    "# Q10) In normal distribution with respect to mean position, where does the least frequent data appear?"
   ]
  },
  {
   "cell_type": "markdown",
   "id": "6847c5b5",
   "metadata": {},
   "source": [
    "## Answer:-"
   ]
  },
  {
   "cell_type": "markdown",
   "id": "8785f9e9",
   "metadata": {},
   "source": [
    "In a normal distribution, the least frequent data appear in the tails of the distribution, which are the regions that are farthest from the mean. The tails of a normal distribution represent the extreme values of the variable being measured, which are less common than the values closer to the mean.\n",
    "\n",
    "For example, if we have a normal distribution with mean 0 and standard deviation 1, the least frequent data will appear in the tails of the distribution, which are the regions beyond 3 standard deviations from the mean. This is because the normal distribution is symmetric around the mean, and the probability density decreases rapidly as we move away from the mean towards the tails of the distribution. The probability of observing a value in the tails of a normal distribution is relatively low compared to the probability of observing a value closer to the mean."
   ]
  },
  {
   "cell_type": "code",
   "execution_count": null,
   "id": "edd26fd3",
   "metadata": {},
   "outputs": [],
   "source": []
  }
 ],
 "metadata": {
  "kernelspec": {
   "display_name": "Python 3 (ipykernel)",
   "language": "python",
   "name": "python3"
  },
  "language_info": {
   "codemirror_mode": {
    "name": "ipython",
    "version": 3
   },
   "file_extension": ".py",
   "mimetype": "text/x-python",
   "name": "python",
   "nbconvert_exporter": "python",
   "pygments_lexer": "ipython3",
   "version": "3.9.7"
  }
 },
 "nbformat": 4,
 "nbformat_minor": 5
}
