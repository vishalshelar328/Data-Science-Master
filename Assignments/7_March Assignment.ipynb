{
 "cells": [
  {
   "cell_type": "markdown",
   "id": "516b34fd",
   "metadata": {},
   "source": [
    "# Q1) What are the three measures of central tendency?"
   ]
  },
  {
   "cell_type": "markdown",
   "id": "7a66352c",
   "metadata": {},
   "source": [
    "## Answer:-"
   ]
  },
  {
   "cell_type": "markdown",
   "id": "d268bc20",
   "metadata": {},
   "source": [
    "## The three measures of central tendency are:\n",
    "1)  Mean: The mean is the sum of all values in a dataset divided by the total number of values. It represents the average value           of a dataset.\n",
    "\n",
    "2) Median: The median is the middle value of a dataset when the values are arranged in ascending order. If there are an even                number of values, the median is the average of the two middle values.\n",
    "\n",
    "3) Mode: The mode is the value that occurs most frequently in a dataset. If there are multiple values with the same highest              frequency, the dataset is said to have multiple modes."
   ]
  },
  {
   "cell_type": "markdown",
   "id": "c94f3ae9",
   "metadata": {},
   "source": [
    "# Q2) What is the difference between the mean, median, and mode? How are they used to measure the central tendency of a dataset?"
   ]
  },
  {
   "cell_type": "markdown",
   "id": "50563590",
   "metadata": {},
   "source": [
    "## Answer :-"
   ]
  },
  {
   "cell_type": "markdown",
   "id": "7578e3ae",
   "metadata": {},
   "source": [
    "- The mean, median, and mode are statistical measures used to describe the central tendency of a dataset. They provide different ways of summarizing the typical or central value of the data points in a distribution.\n",
    "\n",
    "- Mean: The mean is the arithmetic average of a set of numbers. It is calculated by summing all the values in the dataset and then dividing the sum by the total number of values. The mean is sensitive to extreme values or outliers, as they can greatly influence its value. It is often used when the data is approximately normally distributed.\n",
    "\n",
    "- Median: The median is the middle value in a dataset when the values are arranged in ascending or descending order. If there is an odd number of values, the median is the middle one. If there is an even number of values, the median is the average of the two middle values. The median is not affected by extreme values or outliers, making it a robust measure of central tendency. It is commonly used when the data contains outliers or is skewed.\n",
    "\n",
    "- Mode: The mode is the value or values that appear most frequently in a dataset. In other words, it is the value with the highest frequency. A dataset can have no mode (when no value is repeated), one mode (unimodal), or multiple modes (multimodal). The mode is useful when dealing with categorical or discrete data, where the frequencies of different categories are of interest."
   ]
  },
  {
   "cell_type": "markdown",
   "id": "5e65e065",
   "metadata": {},
   "source": [
    "# Q3)  Measure the three measures of central tendency for the given height data :\n",
    "[178,177,176,177,178.2,178,175,179,180,175,178.9,176.2,177,172.5,178,176.5]"
   ]
  },
  {
   "cell_type": "markdown",
   "id": "6127249b",
   "metadata": {},
   "source": [
    "## Answer :-"
   ]
  },
  {
   "cell_type": "markdown",
   "id": "2b3cdf5f",
   "metadata": {},
   "source": [
    "# 1.Mean"
   ]
  },
  {
   "cell_type": "code",
   "execution_count": 3,
   "id": "8d748222",
   "metadata": {},
   "outputs": [
    {
     "name": "stdout",
     "output_type": "stream",
     "text": [
      "Mean for given height data is 177.01875\n"
     ]
    }
   ],
   "source": [
    "import numpy as np\n",
    "heights = [178,177,176,177,178.2,178,175,179,180,175,178.9,176.2,177,172.5,178,176.5]\n",
    "heights_mean = np.mean(heights)\n",
    "print(f'Mean for given height data is {heights_mean}')"
   ]
  },
  {
   "cell_type": "markdown",
   "id": "26331819",
   "metadata": {},
   "source": [
    "# 2. Median"
   ]
  },
  {
   "cell_type": "code",
   "execution_count": 4,
   "id": "dfd0ab93",
   "metadata": {},
   "outputs": [
    {
     "name": "stdout",
     "output_type": "stream",
     "text": [
      "Median for given height data is 177.0\n"
     ]
    }
   ],
   "source": [
    "heights = [178,177,176,177,178.2,178,175,179,180,175,178.9,176.2,177,172.5,178,176.5]\n",
    "heights_median = np.median(heights)\n",
    "print(f'Median for given height data is {heights_median}')"
   ]
  },
  {
   "cell_type": "markdown",
   "id": "66d1842f",
   "metadata": {},
   "source": [
    "# 3.Mode"
   ]
  },
  {
   "cell_type": "code",
   "execution_count": 7,
   "id": "da16d3df",
   "metadata": {},
   "outputs": [
    {
     "name": "stdout",
     "output_type": "stream",
     "text": [
      "Mode: 177.0\n"
     ]
    }
   ],
   "source": [
    "from scipy import stats\n",
    "\n",
    "heights = [178, 177, 176, 177, 178.2, 178, 175, 179, 180, 175, 178.9, 176.2, 177, 172.5, 178, 176.5]\n",
    "\n",
    "mode_value = stats.mode(heights)\n",
    "\n",
    "print(\"Mode:\", mode_value.mode[0])"
   ]
  },
  {
   "cell_type": "markdown",
   "id": "f96ffd08",
   "metadata": {},
   "source": [
    "# Q4) Find the standard deviation for the given data\n",
    "[178,177,176,177,178.2,178,175,179,180,175,178.9,176.2,177,172.5,178,176.5]\n",
    "\n",
    "\n"
   ]
  },
  {
   "cell_type": "markdown",
   "id": "9908c249",
   "metadata": {},
   "source": [
    "## Answer :-"
   ]
  },
  {
   "cell_type": "code",
   "execution_count": 8,
   "id": "7efff6f5",
   "metadata": {},
   "outputs": [
    {
     "name": "stdout",
     "output_type": "stream",
     "text": [
      "Standard Deviation for give data is 1.7886\n"
     ]
    }
   ],
   "source": [
    "import numpy as np\n",
    "data = [178,177,176,177,178.2,178,175,179,180,175,178.9,176.2,177,172.5,178,176.5]\n",
    "data_std = np.std(data)\n",
    "print(f'Standard Deviation for give data is {round(data_std,4)}')"
   ]
  },
  {
   "cell_type": "markdown",
   "id": "abbed2e8",
   "metadata": {},
   "source": [
    "# Q5)  How are measures of dispersion such as range, variance, and standard deviation used to describe the spread of a dataset? Provide an example"
   ]
  },
  {
   "cell_type": "markdown",
   "id": "fa027d81",
   "metadata": {},
   "source": [
    "## Answer :-"
   ]
  },
  {
   "cell_type": "markdown",
   "id": "3259c345",
   "metadata": {},
   "source": [
    "### Measures of dispersion, such as range, variance, and standard deviation, are used to describe how spread out the data in a dataset is. Here's how each measure is used:\n",
    "1) Range: The range is the difference between the maximum and minimum values in a dataset. It gives an idea of how much the values in the dataset vary from one another. A wider range indicates a more spread-out dataset, while a smaller range indicates a more tightly clustered dataset. For example, consider the following set of data: 10, 20, 30, 40, 50. The range is 50 - 10 = 40, which means the data spans a range of 40 units.\n",
    "            data = [10,20,30,40,50]\n",
    "            \n",
    "            range = max(data)-min(data)\n",
    "                  = 50 - 10\n",
    "                  = 40\n",
    "                  \n",
    "                  \n",
    "2) Variance: Variance is a measure of how much the values in a dataset deviate from the mean. It is calculated by taking the sum of the squared differences between each value and the mean, divided by the total number of values. A higher variance indicates that the data is more spread out, while a lower variance indicates that the data is more tightly clustered around the mean. For example, consider the following set of data: 10, 20, 30, 40, 50. The mean is 30. The variance is calculated as follows:\n",
    "            \n",
    "            variance = [(10 - 30)^2 + (20 - 30)^2 + (30 - 30)^2 + (40 - 30)^2 + (50 - 30)^2] / 5\n",
    "                     = 200 / 5\n",
    "                     = 40\n",
    "                     \n",
    "                     \n",
    "3) Standard deviation: The standard deviation is the square root of the variance and is expressed in the same units as the data. It is a more intuitive measure of dispersion because it is in the same units as the data. A higher standard deviation indicates that the data is more spread out, while a lower standard deviation indicates that the data is more tightly clustered around the mean. For example, using the same set of data as above, the standard deviation is calculated as follows:\n",
    "            \n",
    "            standard deviation = sqrt(variance)\n",
    "                               = sqrt(40)\n",
    "                               = 6.32 (approx.)"
   ]
  },
  {
   "cell_type": "markdown",
   "id": "8dfaa1be",
   "metadata": {},
   "source": [
    "# Q6) What is a Venn diagram?"
   ]
  },
  {
   "cell_type": "markdown",
   "id": "02e7eae6",
   "metadata": {},
   "source": [
    "## Answer:-"
   ]
  },
  {
   "cell_type": "markdown",
   "id": "8b3a4585",
   "metadata": {},
   "source": [
    "- A Venn diagram is a graphical representation of sets or groups, which shows all possible logical relations between them. The diagram consists of overlapping circles or other shapes, with each circle representing a set, and the overlapping regions representing the intersection of the sets. The purpose of a Venn diagram is to visually demonstrate how different sets or groups relate to one another and how they overlap or differ.\n",
    "- Venn diagrams are commonly used in mathematics, statistics, logic, and computer science to illustrate concepts such as set theory, probability, and logic operations. They can also be used in other fields to illustrate relationships between different categories or concepts"
   ]
  },
  {
   "cell_type": "markdown",
   "id": "fe09de82",
   "metadata": {},
   "source": [
    "# Q7) For the two given sets A = (2,3,4,5,6,7) & B = (0,2,6,8,10). Find\n",
    "(i) A intersection B\n",
    "(ii) A ⋃ B"
   ]
  },
  {
   "cell_type": "markdown",
   "id": "88f29cef",
   "metadata": {},
   "source": [
    "## Answer :-"
   ]
  },
  {
   "cell_type": "code",
   "execution_count": 11,
   "id": "dcaef978",
   "metadata": {},
   "outputs": [],
   "source": [
    "A = {2,3,4,5,6,7}\n",
    "B = {0,2,6,8,10}"
   ]
  },
  {
   "cell_type": "markdown",
   "id": "03fd7ae3",
   "metadata": {},
   "source": [
    "## 1. A intersection B"
   ]
  },
  {
   "cell_type": "code",
   "execution_count": 12,
   "id": "370aef78",
   "metadata": {},
   "outputs": [
    {
     "data": {
      "text/plain": [
       "{0, 2, 3, 4, 5, 6, 7, 8, 10}"
      ]
     },
     "execution_count": 12,
     "metadata": {},
     "output_type": "execute_result"
    }
   ],
   "source": [
    "A.union(B)"
   ]
  },
  {
   "cell_type": "markdown",
   "id": "464cca60",
   "metadata": {},
   "source": [
    "## 2. A ⋃ B"
   ]
  },
  {
   "cell_type": "code",
   "execution_count": 14,
   "id": "25cce9ef",
   "metadata": {},
   "outputs": [
    {
     "data": {
      "text/plain": [
       "{2, 6}"
      ]
     },
     "execution_count": 14,
     "metadata": {},
     "output_type": "execute_result"
    }
   ],
   "source": [
    "A.intersection(B)"
   ]
  },
  {
   "cell_type": "markdown",
   "id": "5f949876",
   "metadata": {},
   "source": [
    "# Q8) What do you understand about skewness in data"
   ]
  },
  {
   "cell_type": "markdown",
   "id": "1958e68c",
   "metadata": {},
   "source": [
    "## Answer :-"
   ]
  },
  {
   "cell_type": "markdown",
   "id": "03f682c9",
   "metadata": {},
   "source": [
    "- Skewness of data is a measure of the asymmetry of a probability distribution or dataset. It describes the extent to which a dataset is skewed or \"lopsided\" relative to a normal distribution. A distribution is said to be skewed if one of its tails is longer or heavier than the other, causing it to deviate from a perfectly symmetrical shape.\n",
    "- Positive skewness occurs when the tail on the right side of the distribution is longer or heavier than the tail on the left side. This indicates that the dataset has more high values and fewer low values.\n",
    "- Negative skewness occurs when the tail on the left side of the distribution is longer or heavier than the tail on the right side. This indicates that the dataset has more low values and fewer high values.\n",
    "- Skewness can be measured using the skewness statistic. A skewness value of zero indicates that the dataset is perfectly symmetrical, while a positive or negative value indicates that the dataset is skewed in the corresponding direction. Skewness can be an important consideration when interpreting data, as it can affect the accuracy of statistical tests and the validity of certain assumptions about the data."
   ]
  },
  {
   "cell_type": "markdown",
   "id": "905502eb",
   "metadata": {},
   "source": [
    "# Q9) If a data is right skewed then what will be the position of median with respect to mean?"
   ]
  },
  {
   "cell_type": "markdown",
   "id": "5f5abf3b",
   "metadata": {},
   "source": [
    "## Answer :-"
   ]
  },
  {
   "cell_type": "markdown",
   "id": "79739dfc",
   "metadata": {},
   "source": [
    "- If a data is right skewed, then the median will be less than the mean.\n",
    "- In a right-skewed distribution, the tail of the distribution is longer on the right side, and this elongation pulls the mean to the right of the median.\n",
    "- Therefore, the mean is greater than the median in a right-skewed distribution."
   ]
  },
  {
   "cell_type": "markdown",
   "id": "d6de29e6",
   "metadata": {},
   "source": [
    "# Q10)  Explain the difference between covariance and correlation. How are these measures used in statistical analysis?"
   ]
  },
  {
   "cell_type": "markdown",
   "id": "3d90d513",
   "metadata": {},
   "source": [
    "## Answer :-"
   ]
  },
  {
   "cell_type": "markdown",
   "id": "c1fc9cb6",
   "metadata": {},
   "source": [
    "1. Covariance : Covariance measures the extent to which two variables vary together. Specifically, it measures the degree to which two variables deviate from their means in similar ways. Mathematically, the covariance between two variables X and Y is calculated as follows:\n",
    "                cov(X,Y) = E[(X - E[X])(Y - E[Y])]\n",
    "\n",
    "   The value of the covariance can range from negative infinity to positive infinity. A positive covariance indicates that the two variables tend to move in the same direction, while a negative covariance indicates that the two variables tend to move in opposite directions. A covariance of zero indicates that the two variables are uncorrelated.\n",
    "\n",
    "2. Correlation : Correlation, on the other hand, is a standardized measure of the linear relationship between two variables. Correlation takes on values between -1 and 1, where a correlation of 1 indicates a perfect positive relationship, a correlation of -1 indicates a perfect negative relationship, and a correlation of 0 indicates no linear relationship.\n",
    "    \n",
    "                The correlation coefficient between two variables X and Y is calculated as follows:\n",
    "                corr(X,Y) = cov(X,Y) / (SD[X]*SD[Y])\n",
    "\n",
    "\n",
    "Correlation is a more commonly used measure than covariance, because it is standardized and easier to interpret. Correlation can also be used to compare the strength of the relationship between different pairs of variables on a common scale."
   ]
  },
  {
   "cell_type": "markdown",
   "id": "67b18fa3",
   "metadata": {},
   "source": [
    "# Q11) What is the formula for calculating the sample mean? Provide an example calculation for a dataset."
   ]
  },
  {
   "cell_type": "markdown",
   "id": "2028a0e4",
   "metadata": {},
   "source": [
    "## Answer :-"
   ]
  },
  {
   "cell_type": "markdown",
   "id": "92e1f44f",
   "metadata": {},
   "source": [
    "The formula for calculating the sample mean is:\n",
    "\n",
    "    x̄ = (x₁ + x₂ + ... + xn) / n\n",
    "    \n",
    "where x₁, x₂, ..., xn are the values in the dataset, and n is the number of values in the sample.\n",
    "\n",
    "Consider below 5 Values were sampled from a larger dataset\n",
    "    Sample: 4, 6, 2, 9, 5\n",
    "\n",
    "    x̄ = (4 + 6 + 2 + 9 + 5) / 5\n",
    "    x̄ = 26 / 5\n",
    "    x̄ = 5.2"
   ]
  },
  {
   "cell_type": "markdown",
   "id": "10b48348",
   "metadata": {},
   "source": [
    "# Q12) For a normal distribution data what is the relationship between its measure of central tendency"
   ]
  },
  {
   "cell_type": "markdown",
   "id": "9511c88b",
   "metadata": {},
   "source": [
    "## Answer :-"
   ]
  },
  {
   "cell_type": "markdown",
   "id": "e4d5e584",
   "metadata": {},
   "source": [
    "- For a normal distribution, the three measures of central tendency (mean, median, and mode) are all equal. This is because a normal distribution is symmetric around the mean, so the median (which is the middle value when the data is arranged in order) is also the mean. Additionally, the mode (which is the most frequent value in the distribution) is also equal to the mean and median in a normal distribution.\n",
    "- Therefore, in a normal distribution, the mean, median, and mode are all the same value and represent the center of the distribution. This makes the mean a reliable measure of central tendency for normal data"
   ]
  },
  {
   "cell_type": "markdown",
   "id": "1ec42a63",
   "metadata": {},
   "source": [
    "# Q13)  How is covariance different from correlation"
   ]
  },
  {
   "cell_type": "markdown",
   "id": "1f396b52",
   "metadata": {},
   "source": [
    "## Answer :-"
   ]
  },
  {
   "cell_type": "markdown",
   "id": "901232fa",
   "metadata": {},
   "source": [
    "The main difference between covariance and correlation is that covariance is an unstandardized measure that reflects the direction and magnitude of the relationship between two variables, while correlation is a standardized measure that reflects only the strength and direction of the linear relationship between two variables."
   ]
  },
  {
   "cell_type": "markdown",
   "id": "d1ce8208",
   "metadata": {},
   "source": [
    "# Q14)  How do outliers affect measures of central tendency and dispersion? Provide an example"
   ]
  },
  {
   "cell_type": "markdown",
   "id": "eaabc148",
   "metadata": {},
   "source": [
    "## Answer:-"
   ]
  },
  {
   "cell_type": "markdown",
   "id": "178e7fe7",
   "metadata": {},
   "source": [
    "- Outliers can have a significant impact on measures of central tendency and dispersion, particularly the mean and standard deviation.\n",
    "- In terms of central tendency, outliers can pull the mean away from the center of the data, making it a less representative measure of the typical value in the dataset. The effect of outliers on the median, however, is less pronounced, as the median is less affected by extreme values.\n",
    "- In terms of dispersion, outliers can also have a significant impact on the standard deviation, which is a measure of the spread of the data around the mean. Because the standard deviation is influenced by the distance between each value and the mean, outliers that are far from the center of the data can cause the standard deviation to be larger than it would be without the outlier.\n",
    "- Consider below example using heights dataset from Question 3 :\n",
    "\n",
    "    data = [10, 15, 20, 25, 30, 35, 40, 45, 50, 1000]\n",
    "    \n",
    "In this dataset, we have a set of values ranging from 10 to 1000. However, there is a single outlier with a value of 1000, which is significantly larger than the other values.\n",
    "\n",
    "Mean: The mean is calculated by summing all the values and dividing by the total number of values. In this example, the mean would be (10 + 15 + 20 + 25 + 30 + 35 + 40 + 45 + 50 + 1000) / 10 = 229. If we remove the outlier, the mean would be (10 + 15 + 20 + 25 + 30 + 35 + 40 + 45 + 50) / 9 = 32.2. The presence of the outlier drastically increases the mean value.\n",
    "\n",
    "Median: The median is the middle value when the data is arranged in ascending or descending order. In the original dataset, the median would be 32.5. However, if we remove the outlier, the median would be 32, as the outlier has a negligible effect on the median.\n",
    "\n",
    "Mode: The mode represents the most frequently occurring value(s) in the dataset. In this case, there is no mode because no value is repeated. The presence or absence of an outlier does not affect the mode.\n",
    "\n",
    "Regarding measures of dispersion, outliers can also have a significant impact:\n",
    "\n",
    "Range: The range is the difference between the maximum and minimum values. In the original dataset, the range is 1000 - 10 = 990. However, if we remove the outlier, the range becomes 50 - 10 = 40. The presence of the outlier increases the range.\n",
    "\n",
    "Interquartile Range (IQR): The IQR represents the range between the first quartile (25th percentile) and the third quartile (75th percentile). In the original dataset, the IQR would be 35 - 20 = 15. If we remove the outlier, the IQR remains the same, as the outlier does not affect the quartile values significantly.\n",
    "    \n",
    " "
   ]
  }
 ],
 "metadata": {
  "kernelspec": {
   "display_name": "Python 3 (ipykernel)",
   "language": "python",
   "name": "python3"
  },
  "language_info": {
   "codemirror_mode": {
    "name": "ipython",
    "version": 3
   },
   "file_extension": ".py",
   "mimetype": "text/x-python",
   "name": "python",
   "nbconvert_exporter": "python",
   "pygments_lexer": "ipython3",
   "version": "3.9.7"
  }
 },
 "nbformat": 4,
 "nbformat_minor": 5
}
