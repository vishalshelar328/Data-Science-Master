{
 "cells": [
  {
   "cell_type": "markdown",
   "id": "cc341956",
   "metadata": {},
   "source": [
    "# Q1) What is Statistics?"
   ]
  },
  {
   "cell_type": "markdown",
   "id": "05edc0bf",
   "metadata": {},
   "source": [
    "## Answer :- "
   ]
  },
  {
   "cell_type": "markdown",
   "id": "c1561787",
   "metadata": {},
   "source": [
    "- 1) Statistics is a branch of mathematics that deals with the collection, analysis, interpretation, presentation, and organization of data. It involves the use of quantitative methods to extract meaning and insights from data sets. Statistics -  can be applied to a wide range of fields, including business, economics, social sciences, natural sciences, medicine,    engineering, and many others.\n",
    "- 2) In essence, statistics is all about making sense of the information we have by using mathematical techniques and tools to find patterns, relationships, and trends within the data. This helps us make informed decisions, draw accurate conclusions, and solve real-world problems.\n",
    "- 3) For example : Imagine a company wants to know how many of their customers are satisfied with their product. They could collect data from a survey and use statistical methods to analyze the results, such as calculating the percentage of satisfied customers, identifying common themes in feedback, and comparing results across different demographics. This information can help the company make improvements to their product and increase customer satisfaction.\n"
   ]
  },
  {
   "cell_type": "markdown",
   "id": "486ebf22",
   "metadata": {},
   "source": [
    "# Q2) Define the different types of statistics and give an example of when each             type might be used."
   ]
  },
  {
   "cell_type": "markdown",
   "id": "91889944",
   "metadata": {},
   "source": [
    "# Answer :-"
   ]
  },
  {
   "cell_type": "markdown",
   "id": "a37efeb6",
   "metadata": {},
   "source": [
    "### 1) Descriptive statistics :-\n",
    "- Descriptive statistics involves summarizing and describing data through measures such as mean, median, mode, range, standard     deviation, and variance. These statistics help us understand the characteristics of the data, such as its central tendency,     variability, and distribution.\n",
    "### Example :-\n",
    "- A researcher wants to study the distribution of ages in a population. They collect data on the ages of a sample of people and   use descriptive statistics to calculate the mean, median, and standard deviation of the ages. This information can help the     researcher describe the age distribution of the population and identify any outliers or patterns in the data.\n",
    "\n",
    "### 2) Inferential statistics:-\n",
    "- Inferential statistics involves making predictions or drawing conclusions about a population based on a sample of data. This     type of statistics uses probability theory to estimate the likelihood that a particular conclusion is true.\n",
    "### Example:-\n",
    "-  A pharmaceutical company wants to test the effectiveness of a new drug. They conduct a         randomized controlled trial -    with a sample of patients and use inferential statistics to determine whether the drug has a significant effect compared to a    placebo. This information can help the company make decisions about whether to pursue further research or seek approval from    regulatory agencies"
   ]
  },
  {
   "cell_type": "markdown",
   "id": "c4978f96",
   "metadata": {},
   "source": [
    "# Q3) What are the different types of data and how do they differ from each other? Provide an example of each type of data."
   ]
  },
  {
   "cell_type": "markdown",
   "id": "d178cf3b",
   "metadata": {},
   "source": [
    "## Answer :-"
   ]
  },
  {
   "cell_type": "markdown",
   "id": "8a9c145e",
   "metadata": {},
   "source": [
    "### Qualitative Data:\n",
    "-  Qualitative data refers to non-numerical or descriptive information that captures qualities, attributes, opinions, and characteristics. It is typically gathered through methods such as interviews, observations, or surveys. The two main types of qualitative data are:\n",
    "\n",
    "### Nominal Data:\n",
    "- Nominal data consists of categories or labels that do not have an inherent order or ranking. Each category is mutually exclusive and represents a distinct attribute or characteristic.\n",
    "### Example:\n",
    "- Recording the colors of cars passing by (red, blue, green). The categories are distinct, and there is no inherent order or ranking between them.\n",
    "\n",
    "### Ordinal Data:\n",
    "- Ordinal data represents categories with an inherent order or ranking. The categories have a relative position or rank, but the differences between them may not be equal or precisely measurable.\n",
    "### Example: \n",
    "- Survey responses indicating satisfaction levels with a product (e.g., very satisfied, satisfied, neutral, dissatisfied, very dissatisfied). The categories have a rank order, but the difference between \"satisfied\" and \"neutral\" may not be the same as the difference between \"neutral\" and \"dissatisfied.\"\n",
    "\n",
    "### Quantitative Data:\n",
    "-  Quantitative data refers to numerical information that can be measured, counted, or expressed using numbers. It involves collecting objective data through methods such as experiments, surveys, or measurements. The two main types of quantitative data are:\n",
    "\n",
    "### Discrete Data:\n",
    "- Discrete data consists of separate, distinct values or categories with no intermediate values between them. It represents whole numbers or countable values.\n",
    "### Example:\n",
    "- Counting the number of students in a classroom. The number of students is a discrete value as it cannot be divided into smaller parts.\n",
    "\n",
    "### Continuous Data:\n",
    "- Continuous data represents measurements that can take any value within a specific range. It is characterized by being infinitely divisible and having an infinite number of possible values.\n",
    "### Example:\n",
    "- Measuring the weight of objects on a scale. The weight can take on any value within a range, and it can be divided into smaller and smaller units (e.g., grams, milligrams)."
   ]
  },
  {
   "cell_type": "markdown",
   "id": "c6ec787b",
   "metadata": {},
   "source": [
    "# Q4) Categorise the following datasets with respect to quantitative and qualitative data types:\n",
    "\n",
    "1. Grading in exam: A+, A, B+, B, C+, C, D, E\n",
    "2. Colour of mangoes: yellow, green, orange, red\n",
    "3. Height data of a class: [178.9, 179, 179.5, 176, 177.2, 178.3, 175.8,...]\n",
    "4. Number of mangoes exported by a farm: [500, 600, 478, 672, …]"
   ]
  },
  {
   "cell_type": "markdown",
   "id": "5efd4a17",
   "metadata": {},
   "source": [
    "## Answer :-"
   ]
  },
  {
   "cell_type": "markdown",
   "id": "33e08c02",
   "metadata": {},
   "source": [
    "### 1. Grading in exam: A+, A, B+, B, C+, C, D, E :\n",
    "- Grading in Exam is a Qualitative Ordinal Variable with A+ variable being highest rank and E being lowest\n",
    "\n",
    "### 2. Colour of mangoes: yellow, green, orange, red :\n",
    "- Colour of Mangoes is a Qualitative Nominal Variable because colour cannot have a ranking\n",
    "\n",
    "### 3. Height data of a class: [178.9, 179, 179.5, 176, 177.2, 178.3, 175.8,...] :\n",
    "- Height Data of a class is a Quantitative Continuous Variable because this is numeric measurement and is not restricted to be an integer\n",
    "\n",
    "### 4. Number of mangoes exported by a farm: [500, 600, 478, 672, …] :\n",
    "- Number of mangoes exported is a Quantitative Discrete Variable because this is numeric measurement and will always be an integer"
   ]
  },
  {
   "cell_type": "markdown",
   "id": "70b6d6e3",
   "metadata": {},
   "source": [
    "# Q5) Explain the concept of levels of measurement and give an example of a variable for each level"
   ]
  },
  {
   "cell_type": "markdown",
   "id": "75cf7c13",
   "metadata": {},
   "source": [
    "## Answer :-"
   ]
  },
  {
   "cell_type": "markdown",
   "id": "9fa5ea6b",
   "metadata": {},
   "source": [
    "### Levels of measurement, also known as scales of measurement or types of data, refer to the different ways in which variables can be measured or classified. There are four main levels of measurement: nominal, ordinal, interval, and ratio. Each level has unique properties and determines the types of statistical analyses that can be applied to the data.\n",
    "\n",
    "### Nominal Level:-\n",
    "- At the nominal level, variables are categorical and represent distinct categories or groups. The categories have no inherent order or numerical value assigned to them.\n",
    "- Example: Gender (Male, Female)\n",
    "\n",
    "### Ordinal Level:-\n",
    "- Ordinal variables also represent categories, but they have an inherent order or ranking. The differences between categories may not be equal or precisely measurable.\n",
    "- Example: Educational attainment (Elementary, High School, College)\n",
    "\n",
    "### Interval Level:- \n",
    "- Interval variables have equal intervals between values, but they lack a meaningful zero point. The zero does not indicate the absence of the measured attribute but is rather an arbitrary reference point.\n",
    "- Example: Temperature measured in degrees Celsius or Fahrenheit\n",
    "\n",
    "### Ratio Level:-\n",
    "- Ratio variables have equal intervals between values and possess a true zero point, which represents the absence of the measured attribute. Ratios between values are meaningful.\n",
    "- Example: Height (measured in centimeters), Weight (measured in kilograms)"
   ]
  },
  {
   "cell_type": "markdown",
   "id": "6d7c9cd9",
   "metadata": {},
   "source": [
    "# Q6) Why is it important to understand the level of measurement when analyzing data? Provide an example to illustrate your answ "
   ]
  },
  {
   "cell_type": "markdown",
   "id": "514d8a9b",
   "metadata": {},
   "source": [
    "## Answer :-"
   ]
  },
  {
   "cell_type": "markdown",
   "id": "4cf54031",
   "metadata": {},
   "source": [
    "- 1) Understanding the level of measurement of a variable is important because it determines the types of statistical analyses that can be performed and the appropriate interpretation of the results. In other words, the level of measurement helps researchers to identify the appropriate statistical procedures and tests to use when analyzing data. Using the wrong statistical procedure for a given level of measurement can result in misleading or inaccurate conclusions.\n",
    "- 2) For example, let's consider a study that examines the relationship between income and job satisfaction among employees in a company. The income variable is a ratio-level variable because it has a true zero point (no income) and equal intervals between values. In contrast, job satisfaction is an ordinal-level variable because it has a specific order or rank, but unequal or non-meaningful differences between categories. If the researcher were to use a correlation analysis to examine the relationship between these two variables, the result would be incorrect because correlation is only appropriate for ratio-level variables. Instead, a more appropriate statistical test for analyzing the relationship between a ratio-level and ordinal-level variable would be a chi-squared test or a t-test.\n",
    "-  3) In summary, understanding the level of measurement of variables is crucial for selecting appropriate statistical methods and interpreting results accurately in data analysis."
   ]
  },
  {
   "cell_type": "markdown",
   "id": "d9e31196",
   "metadata": {},
   "source": [
    "# Q7) How nominal data type is different from ordinal data type"
   ]
  },
  {
   "cell_type": "markdown",
   "id": "1107ecae",
   "metadata": {},
   "source": [
    "## Answer :-"
   ]
  },
  {
   "cell_type": "markdown",
   "id": "2b765e56",
   "metadata": {},
   "source": [
    "-  1)Nominal and ordinal data are both types of categorical data, but they differ in the level of measurement and the type of information they provide.\n",
    "\n",
    "- 2)Nominal data is the lowest level of measurement and refers to data that is categorized without any numerical or quantitative value. In other words, nominal data consists of categories that are mutually exclusive and do not have any inherent order or ranking. Examples of nominal data include gender (male/female), hair color (blonde/brunette/red), and marital status (single/married/divorced).\n",
    "\n",
    "- 3)Ordinal data, on the other hand, is the second level of measurement and refers to data that has an inherent order or ranking, but the differences between categories may not be equal or meaningful. Examples of ordinal data include educational level (elementary school, high school, college), level of agreement (strongly disagree, disagree, neutral, agree, strongly agree), and rating scales (poor, fair, good, excellent).\n"
   ]
  },
  {
   "cell_type": "markdown",
   "id": "9f4090ab",
   "metadata": {},
   "source": [
    "# Q8) Which type of plot can be used to display data in terms of range?"
   ]
  },
  {
   "cell_type": "markdown",
   "id": "d2c2e02a",
   "metadata": {},
   "source": [
    "## Answer :-"
   ]
  },
  {
   "cell_type": "markdown",
   "id": "a1e9d903",
   "metadata": {},
   "source": [
    "### Boxplot :-\n",
    "- A box plot or a box-and-whisker plot is a type of plot that can be used to display data in terms of range. Box plots are particularly useful for displaying data that has a non-normal distribution, outliers, or multiple groups of data that need to be compared.\n",
    "- A box plot provides a visual representation of the minimum, maximum, median, and quartiles of a dataset. The box in the plot represents the interquartile range (IQR), which is the range of values between the first quartile (25th percentile) and the third quartile (75th percentile) of the dataset. The median is represented by a line within the box, while the minimum and maximum values are represented by the whiskers (vertical lines) that extend from the box.\n",
    "- Box plots are particularly useful for comparing the range and distribution of different groups of data, as multiple box plots can be displayed side by side for comparison. They are also useful for identifying outliers, which are values that fall outside the minimum or maximum range of the dataset.\n",
    "\n",
    "### Histogram :-\n",
    "- Histogram is also one of the plot that can be shown in terms of ranges\n",
    "- A histogram is particularly useful for displaying continuous data, as it allows you to see the shape of the distribution, including any peaks or clusters, as well as the range and spread of the data. It can also help identify outliers or unusual patterns in the data."
   ]
  },
  {
   "cell_type": "markdown",
   "id": "f5457114",
   "metadata": {},
   "source": [
    "# Q9) Describe the difference between descriptive and inferential statistics. Give an example of each type of statistics and explain how they are used."
   ]
  },
  {
   "cell_type": "markdown",
   "id": "2174f325",
   "metadata": {},
   "source": [
    "## Answer :-"
   ]
  },
  {
   "cell_type": "markdown",
   "id": "4fec27d2",
   "metadata": {},
   "source": [
    "### Descriptive Statistics:-\n",
    "- Descriptive statistics involves the summary, organization, and presentation of data in a meaningful way. It focuses on describing the main features of a dataset, such as central tendency, variability, and shape. Descriptive statistics aim to provide a concise and understandable summary of the data, without making inferences or generalizations beyond the specific dataset analyzed.\n",
    "\n",
    "### Example of Descriptive Statistics:-\n",
    "- Let's say a researcher collects data on the heights of students in a class. Descriptive statistics would involve calculating the mean height, standard deviation, and creating a histogram to visualize the distribution of heights. These descriptive measures and graphical representations help understand the characteristics of the specific group of students being studied.\n",
    "\n",
    "### Inferential Statistics:-\n",
    "- Inferential statistics involves making inferences, predictions, or generalizations about a population based on a sample of data. It uses probability theory and statistical techniques to draw conclusions beyond the observed dataset. Inferential statistics allows researchers to make statements about the larger population from which the sample is drawn, with a certain level of confidence.\n",
    "\n",
    "### Example of Inferential Statistics:-\n",
    "- Continuing with the height example, suppose a researcher wants to investigate whether the average height of students in the class is representative of the average height of all students in the school. The researcher could collect a random sample of students' heights, calculate descriptive statistics, and then use inferential statistics to estimate the population mean height and determine if there is a significant difference between the class and the entire school population.\n",
    "\n",
    "### Summary :-\n",
    "- descriptive statistics summarizes and describes the characteristics of a dataset, providing a snapshot of the observed data.     It is useful for understanding the specific dataset being analyzed. On the other hand, inferential statistics allows             researchers to make inferences and draw conclusions about a larger population based on a sample of data, providing insights     beyond the specific dataset studied. Inferential statistics help researchers make generalizations and predictions with a         certain level of confidence."
   ]
  },
  {
   "cell_type": "markdown",
   "id": "fa2dd09b",
   "metadata": {},
   "source": [
    "# Q10) What are some common measures of central tendency and variability used in statistics? Explain how each measure can be used to describe a dataset."
   ]
  },
  {
   "cell_type": "markdown",
   "id": "9b9df923",
   "metadata": {},
   "source": [
    "## Answer :-"
   ]
  },
  {
   "cell_type": "markdown",
   "id": "e1e4caf3",
   "metadata": {},
   "source": [
    "### Measures of Central Tendency :-\n",
    "\n",
    "- Mean: The mean is the arithmetic average of a dataset and is calculated by summing all the values and dividing by the number of observations. It provides a measure of the \"typical\" value in the dataset.\n",
    "  - Application: The mean is useful for describing datasets with a symmetric distribution where extreme values have less influence.\n",
    "\n",
    "- Median: The median is the middle value in an ordered dataset or the average of the two middle values for an even-sized dataset. It represents the value below which half the data falls and above which the other half falls.\n",
    "  - Application: The median is robust to extreme values and is appropriate for datasets with skewed distributions or outliers.\n",
    "\n",
    "- Mode: The mode is the value or values that appear most frequently in a dataset. It represents the most common observation(s).\n",
    "  - Application: The mode is useful for categorical or discrete datasets, or when identifying the most frequent response or category is important.\n",
    "\n",
    "### Measures of Variability :-\n",
    "\n",
    "- Variance: Variance measures the average squared deviation of each data point from the mean. It quantifies the spread of the dataset.\n",
    "  - Application: Variance provides a precise measure of variability, but the values are not in the original units of the dataset.\n",
    "\n",
    "- Standard Deviation: The standard deviation is the square root of the variance. It represents the average deviation of each data point from the mean and is often preferred due to its direct interpretation.\n",
    "  - Application: Standard deviation is widely used as it provides a measure of variability that is in the same units as the original dataset."
   ]
  },
  {
   "cell_type": "code",
   "execution_count": null,
   "id": "7d90dada",
   "metadata": {},
   "outputs": [],
   "source": []
  }
 ],
 "metadata": {
  "kernelspec": {
   "display_name": "Python 3 (ipykernel)",
   "language": "python",
   "name": "python3"
  },
  "language_info": {
   "codemirror_mode": {
    "name": "ipython",
    "version": 3
   },
   "file_extension": ".py",
   "mimetype": "text/x-python",
   "name": "python",
   "nbconvert_exporter": "python",
   "pygments_lexer": "ipython3",
   "version": "3.9.7"
  }
 },
 "nbformat": 4,
 "nbformat_minor": 5
}
