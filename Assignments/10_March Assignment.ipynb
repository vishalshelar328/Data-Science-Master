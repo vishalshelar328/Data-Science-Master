{
 "cells": [
  {
   "cell_type": "markdown",
   "id": "fb494e0d",
   "metadata": {},
   "source": [
    "# Q1) What is Estimation Statistics? Explain point estimate and interval estimate"
   ]
  },
  {
   "cell_type": "markdown",
   "id": "d2871389",
   "metadata": {},
   "source": [
    "## Answer :-"
   ]
  },
  {
   "cell_type": "markdown",
   "id": "f3e93105",
   "metadata": {},
   "source": [
    "### Estimation statistics is a branch of statistics that deals with estimating or inferring population parameters                based on sample data. In other words, it involves using statistical methods to estimate the values of                          parameters  that describe a population from a sample of that population.\n",
    "\n",
    "### There are two main types of estimation in statistics: point estimation and interval estimation.\n",
    "\n",
    "1) Point Estimation: Point estimation involves estimating a population parameter by a single value, which is called a point        estimate. A point estimate is usually the sample statistic, such as the sample mean, sample proportion, or sample standard      deviation. For example, if you want to estimate the average height of all people in a city, you can take a sample of people      and calculate the mean height of that sample. This mean height is a point estimate of the population mean height.\n",
    "\n",
    "2) Interval Estimation: Interval estimation involves estimating a population parameter by a range of values, which is called an    interval estimate. The range of values is called a confidence interval, and it provides a measure of the precision or            uncertainty of the estimate. The confidence interval is usually computed by using a sample statistic and a margin of error.      For example, if you want to estimate the average height of all people in a city, you can take a sample of people and            calculate the mean height of that sample, along with a margin of error. The confidence interval for the population mean          height is the range of values that includes the point estimate (sample mean) and the margin of error.\n",
    "\n",
    "### In summary, point estimation involves estimating a population parameter by a single value, while interval                  estimation involves estimating a population parameter by a range of values that provides a measure of the                precision or uncertainty of the estimate."
   ]
  },
  {
   "cell_type": "markdown",
   "id": "dbb7e537",
   "metadata": {},
   "source": [
    "# Q2) Write a Python function to estimate the population mean using a sample mean and standard deviation."
   ]
  },
  {
   "cell_type": "markdown",
   "id": "91240944",
   "metadata": {},
   "source": [
    "## Answer :-"
   ]
  },
  {
   "cell_type": "markdown",
   "id": "75a7f58f",
   "metadata": {},
   "source": [
    "### 1. Creating a estimate_pop_mean function"
   ]
  },
  {
   "cell_type": "code",
   "execution_count": 1,
   "id": "c65d9889",
   "metadata": {},
   "outputs": [],
   "source": [
    "import math\n",
    "import scipy.stats as stats\n",
    "\n",
    "def estimate_pop_mean(samples, confidence_level=0.95):\n",
    "    # calculate the sample mean and standard deviation\n",
    "    sample_mean = sum(samples) / len(samples)\n",
    "    sample_std = math.sqrt(sum([(x - sample_mean)**2 for x in samples]) / (len(samples) - 1))\n",
    "\n",
    "    # calculate the t-value for the desired level of confidence and degrees of freedom\n",
    "    alpha = 1 - confidence_level\n",
    "    dof = len(samples) - 1\n",
    "    t_value = stats.t.ppf(1 - alpha/2, dof)\n",
    "\n",
    "    # calculate the standard error and margin of error\n",
    "    std_error = sample_std / math.sqrt(len(samples))\n",
    "    margin_of_error = t_value * std_error\n",
    "\n",
    "    # calculate the confidence interval bounds\n",
    "    lower_bound = sample_mean - margin_of_error\n",
    "    upper_bound = sample_mean + margin_of_error\n",
    "\n",
    "    # return the confidence interval as a tuple\n",
    "    return (lower_bound, upper_bound)"
   ]
  },
  {
   "cell_type": "markdown",
   "id": "f297c1dc",
   "metadata": {},
   "source": [
    "### 2. Example with sample and population data"
   ]
  },
  {
   "cell_type": "code",
   "execution_count": 2,
   "id": "4425a683",
   "metadata": {},
   "outputs": [
    {
     "name": "stdout",
     "output_type": "stream",
     "text": [
      "ESTIMATED population mean point estimate is : 49.90401963085705\n",
      "ESTIMATED population mean with 95% confidence interval : (44.07700143820855,55.73103782350558)\n",
      "\n",
      "==========================================================================================================\n",
      "\n",
      "ACTUAL Population mean is : 49.02565533201336\n"
     ]
    }
   ],
   "source": [
    "import numpy as np\n",
    "import random\n",
    "\n",
    "# Set random seed for reproducibility\n",
    "np.random.seed(42)\n",
    "\n",
    "# Create a population of 1000 random values between 0 and 100\n",
    "population_size = 1000\n",
    "population = np.random.uniform(low=0, high=100, size=population_size)\n",
    "\n",
    "# Take a random sample of 100 values from the population\n",
    "sample_size = 100\n",
    "sample = random.sample(list(population), sample_size)\n",
    "\n",
    "# Estimate the population mean and interval using the sample data\n",
    "lower_bound, upper_bound = estimate_pop_mean(sample)\n",
    "\n",
    "# Print the estimated mean\n",
    "print(f\"ESTIMATED population mean point estimate is : {np.mean(sample)}\")\n",
    "print(f\"ESTIMATED population mean with 95% confidence interval : ({lower_bound},{upper_bound})\")\n",
    "print('\\n==========================================================================================================\\n')\n",
    "# Printing Actual population mean \n",
    "print(f\"ACTUAL Population mean is : {np.mean(population)}\")"
   ]
  },
  {
   "cell_type": "markdown",
   "id": "86e2c9d0",
   "metadata": {},
   "source": [
    "# Q3)  What is Hypothesis testing? Why is it used? State the importance of Hypothesis testing"
   ]
  },
  {
   "cell_type": "markdown",
   "id": "8c2fee9a",
   "metadata": {},
   "source": [
    "## Answer :-"
   ]
  },
  {
   "cell_type": "markdown",
   "id": "bcb31261",
   "metadata": {},
   "source": [
    "Hypothesis testing is a statistical method used to determine whether a hypothesis about a population parameter is supported by the evidence provided by a sample of data. The process involves making a statistical inference about a population parameter, such as a mean or a proportion, based on sample data.\n",
    "In hypothesis testing, a null hypothesis is initially assumed to be true, and then evidence is gathered and analyzed to determine whether the null hypothesis can be rejected in favor of an alternative hypothesis. The null hypothesis represents the status quo or the default assumption, while the alternative hypothesis represents the proposed change or difference.\n",
    "Hypothesis testing is used in many fields, including science, engineering, business, and social sciences, to draw conclusions about the population based on sample data. For example, a pharmaceutical company may use hypothesis testing to determine whether a new drug is more effective than an existing drug. A marketing team may use hypothesis testing to determine whether a new advertising campaign is more effective than the current one.\n",
    "The importance of hypothesis testing lies in its ability to make statistical inferences about a population based on sample data, while accounting for the uncertainty and variability of the data. It provides a systematic and objective way to test a hypothesis and draw conclusions based on the evidence. Hypothesis testing allows us to make informed decisions based on data, rather than relying on intuition or guesswork. It is a critical tool in scientific research, where the validity and reliability of the results depend on the appropriate use of hypothesis testing."
   ]
  },
  {
   "cell_type": "markdown",
   "id": "da1b38bb",
   "metadata": {},
   "source": [
    "# Q4) Create a hypothesis that states whether the average weight of male college students is greater than the average weight of female college students."
   ]
  },
  {
   "cell_type": "markdown",
   "id": "7efb2da7",
   "metadata": {},
   "source": [
    "## Answer :-"
   ]
  },
  {
   "cell_type": "markdown",
   "id": "07253010",
   "metadata": {},
   "source": [
    "### Null hypothesis: The average weight of male college students is equal to or less than the average weight of female college students.\n",
    "### Alternative hypothesis: The average weight of male college students is greater than the average weight of female college students.\n",
    "### In statistical notation, this can be represented as:\n",
    "### H0: μm ≤ μf\n",
    "### Ha: μm > μf\n",
    "### where:\n",
    "1. H0 = null hypothesis\n",
    "\n",
    "2. Ha = alternative hypothesis\n",
    "\n",
    "3. μm = population mean weight of male college students\n",
    "\n",
    "4. μf = population mean weight of female college students\n",
    "\n",
    "### The null hypothesis assumes that there is no significant difference in weight between male and female college students.\n",
    "### The alternative hypothesis assumes that there is a significant difference in weight, and specifically that male college students have a higher average weight than female college students.\n",
    "\n"
   ]
  },
  {
   "cell_type": "markdown",
   "id": "2e0f365c",
   "metadata": {},
   "source": [
    "# Q5) Write a Python script to conduct a hypothesis test on the difference between two population means, given a sample from each population."
   ]
  },
  {
   "cell_type": "markdown",
   "id": "cd2be345",
   "metadata": {},
   "source": [
    "## Answer :-"
   ]
  },
  {
   "cell_type": "markdown",
   "id": "2703401e",
   "metadata": {},
   "source": [
    "### Done this with help of t distribution from scipy.stats"
   ]
  },
  {
   "cell_type": "code",
   "execution_count": 4,
   "id": "6808546b",
   "metadata": {},
   "outputs": [
    {
     "name": "stdout",
     "output_type": "stream",
     "text": [
      "p-value : 0.22461584380277022\n",
      "t-statistic : 0.7955870797707367\n",
      "t-crit : 2.3060041350333704\n",
      "Fail to reject the null hypothesis: The population means of the two samples are EQUAL\n",
      "Fail to reject the null hypothesis: The population means of the two samples are EQUAL\n"
     ]
    }
   ],
   "source": [
    "import numpy as np\n",
    "from scipy.stats import t\n",
    "\n",
    "# Sample data\n",
    "sample1 = np.array([2.5, 3.2, 2.9, 3.8, 3.5])\n",
    "sample2 = np.array([2.1, 3.0, 3.5, 2.8, 3.2])\n",
    "\n",
    "# Sample statistics\n",
    "n1 = len(sample1)\n",
    "n2 = len(sample2)\n",
    "mean1 = np.mean(sample1)\n",
    "mean2 = np.mean(sample2)\n",
    "std1 = np.std(sample1, ddof=1)\n",
    "std2 = np.std(sample2, ddof=1)\n",
    "\n",
    "# Null and alternative hypotheses\n",
    "null_hypothesis = \"The population means of the two samples are EQUAL\"\n",
    "alt_hypothesis = \"The population mean of sample 1 and sample 2 are NOT Equal\"\n",
    "\n",
    "# Calculate the t-statistic and degrees of freedom\n",
    "sp = np.sqrt(((n1-1)*(std1**2) + (n2-1)*(std2**2)) / (n1+n2-2))\n",
    "t_stat = (mean1 - mean2) / (sp * np.sqrt(1/n1 + 1/n2))\n",
    "df = n1 + n2 - 2\n",
    "\n",
    "# Calculate the p-value and critical value\n",
    "p_value = 1 - t.cdf(t_stat, df=df)\n",
    "alpha = 0.05\n",
    "t_crit = t.ppf(1-alpha/2, df=df)\n",
    "\n",
    "# Print p_value\n",
    "print(f'p-value : {p_value}')\n",
    "\n",
    "# Print t_stat\n",
    "print(f't-statistic : {t_stat}')\n",
    "\n",
    "#print t_crit\n",
    "print(f't-crit : {t_crit}')\n",
    "\n",
    "# Compare the p-value and critical value to the significance level\n",
    "if p_value < alpha:\n",
    "    print(\"Reject the null hypothesis: \" + null_hypothesis)\n",
    "    print(\"Accept the alternative hypothesis: \" + alt_hypothesis)\n",
    "else:\n",
    "    print(\"Fail to reject the null hypothesis: \" + null_hypothesis)\n",
    "    \n",
    "# Compare the t-statistic to the critical value\n",
    "if abs(t_stat) > t_crit:\n",
    "    print(\"Reject the null hypothesis: \" + null_hypothesis)\n",
    "    print(\"Accept the alternative hypothesis: \" + alt_hypothesis)\n",
    "else:\n",
    "    print(\"Fail to reject the null hypothesis: \" + null_hypothesis)"
   ]
  },
  {
   "cell_type": "markdown",
   "id": "9afb74ba",
   "metadata": {},
   "source": [
    "# Q6) What is a null and alternative hypothesis? Give some examples"
   ]
  },
  {
   "cell_type": "markdown",
   "id": "a39fc6d6",
   "metadata": {},
   "source": [
    "## Answer :-"
   ]
  },
  {
   "cell_type": "markdown",
   "id": "af31f9b3",
   "metadata": {},
   "source": [
    "### In statistical hypothesis testing, the null hypothesis (denoted as H0) is a statement that assumes there is no significant difference between two or more variables, or that a proposed relationship does not exist between variables.\n",
    "###The alternative hypothesis (denoted as Ha or H1) is a statement that contradicts the null hypothesis and claims that there is a significant difference between variables or a proposed relationship does exist.\n",
    "###Examples of null and alternative hypotheses are:\n",
    "1. Null Hypothesis: The average age of customers who buy product A and product B is the same. Alternative Hypothesis: The average age of customers who buy product A is different from the average age of customers who buy product B.\n",
    "\n",
    "2. Null Hypothesis: The new drug has no effect on blood pressure. Alternative Hypothesis: The new drug reduces blood pressure.\n",
    "\n",
    "3. Null Hypothesis: There is no relationship between education level and job satisfaction. Alternative Hypothesis: Higher education levels are associated with higher job satisfaction.\n",
    "\n",
    "4. Null Hypothesis: The mean weight of male and female students is the same. Alternative Hypothesis: The mean weight of male students is greater than the mean weight of female students.\n",
    "\n",
    "5. Null Hypothesis: The proportion of voters who support Candidate A is the same as the proportion who support Candidate B. Alternative Hypothesis: The proportion of voters who support Candidate A is different from the proportion who support Candidate B."
   ]
  },
  {
   "cell_type": "markdown",
   "id": "433e2f30",
   "metadata": {},
   "source": [
    "# Q7)  Write down the steps involved in hypothesis testing."
   ]
  },
  {
   "cell_type": "markdown",
   "id": "61e39450",
   "metadata": {},
   "source": [
    "## Answer :-"
   ]
  },
  {
   "cell_type": "markdown",
   "id": "df5f1b0d",
   "metadata": {},
   "source": [
    "### The general steps involved in hypothesis testing are:\n",
    "1. State the null and alternative hypotheses: This involves defining the null hypothesis (H0) and alternative hypothesis (Ha) based on the research question or problem being investigated.\n",
    "\n",
    "2. Determine the level of significance: This involves selecting a level of significance (alpha) that represents the maximum probability of making a Type I error (rejecting the null hypothesis when it is actually true).\n",
    "\n",
    "3. Choose the appropriate test statistic: This depends on the type of data being analyzed, the sample size, and the assumptions of the statistical test.\n",
    "\n",
    "4. Calculate the test statistic: This involves computing the test statistic based on the sample data.\n",
    "\n",
    "5. Determine the p-value: This is the probability of obtaining a test statistic as extreme or more extreme than the observed value, assuming the null hypothesis is true.\n",
    "\n",
    "6. Compare the p-value to the level of significance: If the p-value is less than or equal to the level of significance, reject the null hypothesis. If the p-value is greater than the level of significance, fail to reject the null hypothesis.\n",
    "\n",
    "7. Interpret the results: This involves drawing conclusions based on the statistical analysis and determining the practical significance of the findings.\n",
    "\n",
    "8. Make a decision and draw conclusions: Based on the results of the hypothesis test, make a decision regarding the research question and draw conclusions based on the findings."
   ]
  },
  {
   "cell_type": "markdown",
   "id": "e077be5c",
   "metadata": {},
   "source": [
    "# Q8)  Define p-value and explain its significance in hypothesis testing."
   ]
  },
  {
   "cell_type": "markdown",
   "id": "5426a1df",
   "metadata": {},
   "source": [
    "## Answer :-"
   ]
  },
  {
   "cell_type": "markdown",
   "id": "6abb955d",
   "metadata": {},
   "source": [
    "\n",
    "In hypothesis testing, the p-value is the probability of obtaining a test statistic as extreme or more extreme than the observed value, assuming the null hypothesis is true. The p-value is a measure of the strength of the evidence against the null hypothesis.\n",
    "If the p-value is less than or equal to the level of significance (alpha), it is considered statistically significant, and the null hypothesis is rejected. This indicates that the observed result is unlikely to have occurred by chance and supports the alternative hypothesis. If the p-value is greater than the level of significance, the null hypothesis cannot be rejected, and the result is not considered statistically significant.\n",
    "The p-value is significant because it provides a quantitative measure of the strength of the evidence against the null hypothesis. A small p-value indicates strong evidence against the null hypothesis, whereas a large p-value indicates weak evidence against the null hypothesis. The p-value also helps researchers make informed decisions about whether to reject or fail to reject the null hypothesis and draw conclusions based on the statistical analysis."
   ]
  },
  {
   "cell_type": "markdown",
   "id": "e07459a4",
   "metadata": {},
   "source": [
    "# Q9)  Generate a Student's t-distribution plot using Python's matplotlib library, with the degrees of freedom parameter set to 10."
   ]
  },
  {
   "cell_type": "markdown",
   "id": "9a395300",
   "metadata": {},
   "source": [
    "## Answer :-"
   ]
  },
  {
   "cell_type": "code",
   "execution_count": 5,
   "id": "9695f95a",
   "metadata": {},
   "outputs": [
    {
     "data": {
      "image/png": "[encoded data removed]",
      "text/plain": [
       "<Figure size 432x288 with 1 Axes>"
      ]
     },
     "metadata": {
      "needs_background": "light"
     },
     "output_type": "display_data"
    }
   ],
   "source": [
    "import matplotlib.pyplot as plt\n",
    "import numpy as np\n",
    "from scipy.stats import t\n",
    "\n",
    "df = 10 # degrees of freedom\n",
    "data = t.rvs(df, size=1000) # generate 1000 random values from the t-distribution with 10 degrees of freedom\n",
    "\n",
    "fig, ax = plt.subplots()\n",
    "ax.hist(data, bins='fd', density=True, alpha=0.5,edgecolor='black',label='histogram')\n",
    "\n",
    "kde_xs = np.linspace(data.min(), data.max(), 1000)\n",
    "kde = t.pdf(kde_xs, df)\n",
    "ax.plot(kde_xs, kde, label='KDE', linewidth=2)\n",
    "\n",
    "ax.set_xlabel('x')\n",
    "ax.set_ylabel('Probability density')\n",
    "ax.set_title('Student\\'s t-distribution with 10 degrees of freedom')\n",
    "ax.legend(loc='best')\n",
    "plt.show()"
   ]
  },
  {
   "cell_type": "markdown",
   "id": "6fee9cb0",
   "metadata": {},
   "source": [
    "# Q10)  Write a Python program to calculate the two-sample t-test for independent samples, given two random samples of equal size and a null hypothesis that the population means are equal"
   ]
  },
  {
   "cell_type": "markdown",
   "id": "47aaf68e",
   "metadata": {},
   "source": [
    "## Answer :-"
   ]
  },
  {
   "cell_type": "code",
   "execution_count": 6,
   "id": "9cdc55c2",
   "metadata": {},
   "outputs": [
    {
     "name": "stdout",
     "output_type": "stream",
     "text": [
      "t-statistic =  -5.339420260450864\n",
      "p-value =  6.039528274954419e-07\n",
      "Confidence Interval = 0.99\n",
      "\n",
      "\n",
      "REJECT the null hypothesis that the population means are equal.\n",
      "Conclusion : Population means for both samples are DIFFERENT\n"
     ]
    }
   ],
   "source": [
    "import numpy as np\n",
    "from scipy.stats import ttest_ind\n",
    "\n",
    "# Generate two random samples of equal size\n",
    "sample1 = np.random.normal(loc=10, scale=2, size=50)\n",
    "sample2 = np.random.normal(loc=12, scale=2, size=50)\n",
    "\n",
    "# Calculate the t-statistic and p-value using the ttest_ind function\n",
    "t_stat, p_val = ttest_ind(sample1, sample2)\n",
    "\n",
    "# Print the results\n",
    "print(\"t-statistic = \", t_stat)\n",
    "print(\"p-value = \", p_val)\n",
    "\n",
    "alpha = 0.01\n",
    "print(\"Confidence Interval =\",1-alpha)\n",
    "print('\\n')\n",
    "\n",
    "# Test the null hypothesis\n",
    "if p_val < alpha:\n",
    "    print(\"REJECT the null hypothesis that the population means are equal.\")\n",
    "    print(\"Conclusion : Population means for both samples are DIFFERENT\")\n",
    "else:\n",
    "    print(\"FAIL to reject the null hypothesis that the population means are equal.\")\n",
    "    print(\"Conclusion : Population means for both samples are EQUAL\")"
   ]
  },
  {
   "cell_type": "markdown",
   "id": "b967781c",
   "metadata": {},
   "source": [
    "# Q11) What is Student’s t distribution? When to use the t-Distribution"
   ]
  },
  {
   "cell_type": "markdown",
   "id": "4852d60e",
   "metadata": {},
   "source": [
    "## Answer :-"
   ]
  },
  {
   "cell_type": "markdown",
   "id": "f0f03a67",
   "metadata": {},
   "source": [
    "### Student's t-distribution, also known as the t-distribution, is a probability distribution that is used to estimate the mean of a normally distributed population when the sample size is small and/or the population standard deviation is unknown. It was first introduced by William Sealy Gosset in 1908, who published under the pseudonym \"Student\".\n",
    "### The t-distribution looks similar to a normal distribution, but it has heavier tails and is more spread out. The shape of the t-distribution depends on a parameter known as degrees of freedom (df), which is related to the sample size.\n",
    "### In general, the t-distribution is used in hypothesis testing and confidence interval estimation when the sample size is small (less than 30) or the population standard deviation is unknown. It allows us to make inferences about the population mean based on a small sample of data. The t-distribution is commonly used in a variety of fields, including statistics, engineering, and social sciences.\n",
    "### Specifically, we use the t-distribution when:\n",
    "1. The sample size is small (less than 30).\n",
    "\n",
    "2. The population standard deviation is unknown.\n",
    "\n",
    "3. The population is normally distributed or approximately normally distributed (the central limit theorem applies).\n",
    "\n",
    "4. We want to make inferences about the population mean, such as testing whether a sample mean is significantly different from a hypothesized\n",
    "\n",
    "5. population mean or constructing a confidence interval for the population mean.\n",
    "\n",
    "### Overall, the t-distribution is a useful tool for statistical analysis when working with small sample sizes or when the population standard deviation is unknown."
   ]
  },
  {
   "cell_type": "markdown",
   "id": "0e7fc57c",
   "metadata": {},
   "source": [
    "# Q12) What is t-statistic? State the formula for t-statistic."
   ]
  },
  {
   "cell_type": "markdown",
   "id": "53f32f5b",
   "metadata": {},
   "source": [
    "## Answer :-"
   ]
  },
  {
   "cell_type": "markdown",
   "id": "e7db4df6",
   "metadata": {},
   "source": [
    "The t-statistic, also known as the t-value, is a statistical measure used to determine the significance of the difference between the means of two groups or the significance of the relationship between a sample mean and a population mean. It is commonly used in hypothesis testing and is based on the t-distribution.\n",
    "\n",
    "The formula for calculating the t-statistic depends on the context and the specific hypothesis being tested. There are two common scenarios:\n",
    "\n",
    "One-sample t-test:\n",
    "In a one-sample t-test, we compare the mean of a sample to a known population mean. The formula for the t-statistic in this case is:\n",
    "\n",
    "t = (x - μ) / (s / sqrt(n))\n",
    "\n",
    "where:\n",
    "\n",
    "t is the t-statistic,\n",
    "x is the sample mean,\n",
    "μ is the population mean,\n",
    "s is the sample standard deviation, and\n",
    "n is the sample size.\n",
    "Independent samples t-test:\n",
    "In an independent samples t-test, we compare the means of two independent groups. The formula for the t-statistic in this case is:\n",
    "\n",
    "t = (x₁ - x₂) / sqrt((s₁² / n₁) + (s₂² / n₂))\n",
    "\n",
    "where:\n",
    "\n",
    "t is the t-statistic,\n",
    "x₁ and x₂ are the means of the two groups,\n",
    "s₁ and s₂ are the standard deviations of the two groups,\n",
    "n₁ and n₂ are the sample sizes of the two groups.\n",
    "In both cases, the t-statistic measures how many standard errors the sample mean is away from the hypothesized population mean or the difference between the means of two groups. The t-statistic is then compared to critical values from the t-distribution to determine whether the difference is statistically significant."
   ]
  },
  {
   "cell_type": "markdown",
   "id": "9c0bd82f",
   "metadata": {},
   "source": [
    "# Q13) A coffee shop owner wants to estimate the average daily revenue for their shop. They take a random sample of 50 days and find the sample mean revenue to be dollar 500 with a standard deviation of dollar50. Estimate the population mean revenue with a 95% confidence interval"
   ]
  },
  {
   "cell_type": "markdown",
   "id": "e7922cbe",
   "metadata": {},
   "source": [
    "## Answer :-"
   ]
  },
  {
   "cell_type": "code",
   "execution_count": 7,
   "id": "af5625f2",
   "metadata": {},
   "outputs": [
    {
     "name": "stdout",
     "output_type": "stream",
     "text": [
      "The 95% confidence interval for the population mean revenue is: ($485.79, $514.21)\n"
     ]
    }
   ],
   "source": [
    "import math\n",
    "import scipy.stats as stats\n",
    "\n",
    "sample_mean = 500\n",
    "sample_std = 50\n",
    "sample_size = 50\n",
    "\n",
    "alpha = 0.05  # significance level\n",
    "dof = sample_size - 1  # degrees of freedom\n",
    "t_value = stats.t.ppf(1 - alpha/2, dof)  # two-tailed t-value\n",
    "\n",
    "std_error = sample_std / math.sqrt(sample_size)\n",
    "margin_of_error = t_value * std_error\n",
    "\n",
    "lower_bound = sample_mean - margin_of_error\n",
    "upper_bound = sample_mean + margin_of_error\n",
    "\n",
    "print(f\"The 95% confidence interval for the population mean revenue is: (${lower_bound:.2f}, ${upper_bound:.2f})\")"
   ]
  },
  {
   "cell_type": "markdown",
   "id": "1134556f",
   "metadata": {},
   "source": [
    "# Q14)  A researcher hypothesizes that a new drug will decrease blood pressure by 10 mmHg. They conduct a clinical trial with 100 patients and find that the sample mean decrease in blood pressure is 8 mmHg with a standard deviation of 3 mmHg. Test the hypothesis with a significance level of 0.05."
   ]
  },
  {
   "cell_type": "markdown",
   "id": "2ba22ecb",
   "metadata": {},
   "source": [
    "## Answer :-"
   ]
  },
  {
   "cell_type": "code",
   "execution_count": 9,
   "id": "8bc35c60",
   "metadata": {},
   "outputs": [
    {
     "name": "stdout",
     "output_type": "stream",
     "text": [
      "The p-value is 7.506144504985108e-10, which is less than the significance level of 0.05.\n",
      "Reject the null hypothesis: The true mean decrease in blood pressure is equal to 10 mmHg.\n",
      "Conclusion: The true mean decrease in blood pressure is less than 10 mmHg.\n"
     ]
    }
   ],
   "source": [
    "import math\n",
    "import scipy.stats as stats\n",
    "\n",
    "# sample size\n",
    "n = 100\n",
    "\n",
    "# sample mean and standard deviation\n",
    "sample_mean = 8\n",
    "sample_std = 3\n",
    "\n",
    "# hypothesized population mean\n",
    "pop_mean = 10\n",
    "\n",
    "# null hypothesis: the true mean decrease in blood pressure is equal to 10 mmHg\n",
    "# alternative hypothesis: the true mean decrease in blood pressure is less than 10 mmHg\n",
    "null_hypothesis = \"The true mean decrease in blood pressure is equal to 10 mmHg\"\n",
    "alternative_hypothesis = \"The true mean decrease in blood pressure is less than 10 mmHg\"\n",
    "\n",
    "# calculate the t-value and p-value\n",
    "t_value = (sample_mean - pop_mean) / (sample_std / math.sqrt(n))\n",
    "p_value = stats.t.cdf(t_value, df=n-1)\n",
    "\n",
    "# compare the p-value with the significance level\n",
    "significance_level = 0.05\n",
    "\n",
    "if p_value < significance_level:\n",
    "    print(f\"The p-value is {p_value}, which is less than the significance level of {significance_level}.\")\n",
    "    print(f\"Reject the null hypothesis: {null_hypothesis}.\")\n",
    "    print(f\"Conclusion: {alternative_hypothesis}.\")\n",
    "else:\n",
    "    print(f\"The p-value is {p_value}, which is greater than the significance level of {significance_level}.\")\n",
    "    print(f\"Fail to reject the null hypothesis: {null_hypothesis}.\")\n",
    "    print(\"Conclusion: There is not enough evidence to conclude that the new drug decreases blood pressure by a statistically significant amount\")"
   ]
  },
  {
   "cell_type": "markdown",
   "id": "4c00feed",
   "metadata": {},
   "source": [
    "# Q15)  An electronics company produces a certain type of product with a mean weight of 5 pounds and a standard deviation of 0.5 pounds. A random sample of 25 products is taken, and the sample mean weight is found to be 4.8 pounds. Test the hypothesis that the true mean weight of the products is less than 5 pounds with a significance level of 0.01."
   ]
  },
  {
   "cell_type": "markdown",
   "id": "361f8a3d",
   "metadata": {},
   "source": [
    "## Answer :-"
   ]
  },
  {
   "cell_type": "code",
   "execution_count": 11,
   "id": "abb7a50f",
   "metadata": {},
   "outputs": [
    {
     "name": "stdout",
     "output_type": "stream",
     "text": [
      "The p-value is 0.0285, which is greater than the significance level of 0.01.\n",
      "Fail to reject the null hypothesis: The true mean weight of the products is equal to 5 pounds.\n",
      "Conclusion: There is not enough evidence to conclude that the true mean weight of the products is less than 5 pounds.\n"
     ]
    }
   ],
   "source": [
    "import math\n",
    "import scipy.stats as stats\n",
    "\n",
    "# population mean and standard deviation\n",
    "pop_mean = 5\n",
    "pop_std = 0.5\n",
    "\n",
    "# sample size and sample mean\n",
    "n = 25\n",
    "sample_mean = 4.8\n",
    "\n",
    "# null hypothesis: the true mean weight of the products is equal to 5 pounds\n",
    "# alternative hypothesis: the true mean weight of the products is less than 5 pounds\n",
    "null_hypothesis = \"The true mean weight of the products is equal to 5 pounds\"\n",
    "alternative_hypothesis = \"The true mean weight of the products is less than 5 pounds\"\n",
    "\n",
    "# calculate the t-value and p-value\n",
    "t_value = (sample_mean - pop_mean) / (pop_std / math.sqrt(n))\n",
    "p_value = stats.t.cdf(t_value, df=n-1)\n",
    "\n",
    "# compare the p-value with the significance level\n",
    "significance_level = 0.01\n",
    "\n",
    "if p_value < significance_level:\n",
    "    print(f\"The p-value is {p_value:.4f}, which is less than the significance level of {significance_level}.\")\n",
    "    print(f\"Reject the null hypothesis: {null_hypothesis}.\")\n",
    "    print(f\"Conclusion: {alternative_hypothesis}.\")\n",
    "else:\n",
    "    print(f\"The p-value is {p_value:.4f}, which is greater than the significance level of {significance_level}.\")\n",
    "    print(f\"Fail to reject the null hypothesis: {null_hypothesis}.\")\n",
    "    print(\"Conclusion: There is not enough evidence to conclude that the true mean weight of the products is less than 5 pounds.\")"
   ]
  },
  {
   "cell_type": "markdown",
   "id": "a9b67fad",
   "metadata": {},
   "source": [
    "# Q16) Two groups of students are given different study materials to prepare for a test. The first group (n1 = 30) has a mean score of 80 with a standard deviation of 10, and the second group (n2 = 40) has a mean score of 75 with a standard deviation of 8. Test the hypothesis that the population means for the two groups are equal with a significance level of 0.01."
   ]
  },
  {
   "cell_type": "markdown",
   "id": "57226270",
   "metadata": {},
   "source": [
    "## Answer :-"
   ]
  },
  {
   "cell_type": "markdown",
   "id": "91fe36aa",
   "metadata": {},
   "source": [
    "### To test the hypothesis that the population means for the two groups are equal, we can use a two-sample t-test with the following null and alternative hypotheses:\n",
    "### Null hypothesis: The population means for the two groups are equal.\n",
    "### Alternative hypothesis: The population means for the two groups are not equal."
   ]
  },
  {
   "cell_type": "code",
   "execution_count": 12,
   "id": "b5c7c09b",
   "metadata": {},
   "outputs": [
    {
     "name": "stdout",
     "output_type": "stream",
     "text": [
      "Fail to reject the null hypothesis.\n",
      "Conclusion : The population means for the two groups are EQUAL\n",
      "p-value:  0.02761348036769749\n"
     ]
    }
   ],
   "source": [
    "import scipy.stats as stats\n",
    "\n",
    "# Sample 1 statistics\n",
    "n1 = 30\n",
    "x1 = 80\n",
    "s1 = 10\n",
    "\n",
    "# Sample 2 statistics\n",
    "n2 = 40\n",
    "x2 = 75\n",
    "s2 = 8\n",
    "\n",
    "# null hypothesis: The population means for the two groups are EQUAL\n",
    "# alternative hypothesis: The population means for the two groups are NOT equal.\n",
    "null_hypothesis = \"The population means for the two groups are EQUAL\"\n",
    "alternative_hypothesis = \"The population means for the two groups are not equal.\"\n",
    "\n",
    "# Calculate the t-statistic\n",
    "t = (x1 - x2) / ((s1**2 / n1) + (s2**2 / n2))**0.5\n",
    "\n",
    "# Degrees of freedom\n",
    "df = n1 + n2 - 2\n",
    "\n",
    "# Calculate the p-value for the two-tailed test\n",
    "p_value = stats.t.sf(abs(t), df) * 2\n",
    "\n",
    "# Significance level\n",
    "alpha = 0.01\n",
    "\n",
    "# Test the hypothesis\n",
    "if p_value < alpha:\n",
    "    print(f\"Reject the null hypothesis : {null_hypothesis}\")\n",
    "    print(f\"Conclusion : {alternative_hypothesis}\")\n",
    "else:\n",
    "    print(\"Fail to reject the null hypothesis.\")\n",
    "    print(f\"Conclusion : {null_hypothesis}\")\n",
    "\n",
    "print(\"p-value: \", p_value)"
   ]
  },
  {
   "cell_type": "markdown",
   "id": "ef85f3ad",
   "metadata": {},
   "source": [
    "# Q17)  A marketing company wants to estimate the average number of ads watched by viewers during a TV program. They take a random sample of 50 viewers and find that the sample mean is 4 with a standard deviation of 1.5. Estimate the population mean with a 99% confidence interval."
   ]
  },
  {
   "cell_type": "markdown",
   "id": "805948f5",
   "metadata": {},
   "source": [
    "## Answer :-"
   ]
  },
  {
   "cell_type": "code",
   "execution_count": 14,
   "id": "d78ed8bb",
   "metadata": {},
   "outputs": [
    {
     "name": "stdout",
     "output_type": "stream",
     "text": [
      "The population mean is between 3.43 and 4.57 with 99.0 % confidence\n"
     ]
    }
   ],
   "source": [
    "import scipy.stats as stats\n",
    "import math\n",
    "\n",
    "sample_mean = 4\n",
    "sample_size = 50\n",
    "sample_std_dev = 1.5\n",
    "conf_level = 0.99\n",
    "\n",
    "# calculate the t-value for the desired level of confidence and degrees of freedom\n",
    "t_value = stats.t.ppf((1+conf_level)/2,sample_size-1)\n",
    "\n",
    "# Calculate margin of error\n",
    "margin_error = t_value * (sample_std_dev / math.sqrt(sample_size))\n",
    "\n",
    "# Calculate confidence interval\n",
    "lower_interval = sample_mean - margin_error\n",
    "upper_interval = sample_mean + margin_error\n",
    "\n",
    "# Print results\n",
    "print(\"The population mean is between\", round(lower_interval, 2), \"and\", round(upper_interval, 2), \"with\", conf_level * 100, \"% confidence\")"
   ]
  },
  {
   "cell_type": "code",
   "execution_count": null,
   "id": "a0fed0a2",
   "metadata": {},
   "outputs": [],
   "source": []
  }
 ],
 "metadata": {
  "kernelspec": {
   "display_name": "Python 3 (ipykernel)",
   "language": "python",
   "name": "python3"
  },
  "language_info": {
   "codemirror_mode": {
    "name": "ipython",
    "version": 3
   },
   "file_extension": ".py",
   "mimetype": "text/x-python",
   "name": "python",
   "nbconvert_exporter": "python",
   "pygments_lexer": "ipython3",
   "version": "3.9.7"
  }
 },
 "nbformat": 4,
 "nbformat_minor": 5
}
