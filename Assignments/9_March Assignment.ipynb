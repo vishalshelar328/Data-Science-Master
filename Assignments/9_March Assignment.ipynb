{
 "cells": [
  {
   "cell_type": "markdown",
   "id": "04600b1e",
   "metadata": {},
   "source": [
    "# Q1) What are the Probability Mass Function (PMF) and Probability Density Function (PDF)? Explain with an example."
   ]
  },
  {
   "cell_type": "markdown",
   "id": "032dae84",
   "metadata": {},
   "source": [
    "## Answer :-"
   ]
  },
  {
   "cell_type": "markdown",
   "id": "e708465e",
   "metadata": {},
   "source": [
    "### 1. Probability Mass Function (PMF)\n",
    "The Probability Mass Function (PMF) and Probability Density Function (PDF) are both mathematical functions used to describe the probability distribution of a random variable.\n",
    "\n",
    "The PMF is used for discrete random variables and gives the probability of each possible outcome. It is defined as follows:\n",
    "    \n",
    "PMF(x) = P(X = x)\n",
    "\n",
    "where X is the random variable and x is a possible outcome. The PMF returns the probability of X being equal to x.\n",
    "\n",
    "For example, suppose we have a fair six-sided die. The PMF for this die would be\n",
    "\n",
    "PMF(1) = 1/6\n",
    "PMF(2) = 1/6\n",
    "PMF(3) = 1/6\n",
    "PMF(4) = 1/6\n",
    "PMF(5) = 1/6\n",
    "PMF(6) = 1/6\n",
    "\n",
    "This means that the probability of rolling a 1 is 1/6, the probability of rolling a 2 is 1/6, and so on. The PMF is a discrete function because the possible outcomes (1, 2, 3, 4, 5, and 6) are all distinct and countable.\n",
    "\n",
    "### 2. Probability Density Function (PDF)\n",
    "The PDF, on the other hand, is used for continuous random variables and gives the density of probability at each possible value of the variable. It is defined as follows:\n",
    "    \n",
    "PDF(x) = dF(x) / dx\n",
    "\n",
    "where F(x) is the cumulative distribution function (CDF) of the variable. The PDF returns the density of probability at a particular value of X.\n",
    "\n",
    "The PDF for Normally Distributed Variable is:\n",
    " \n",
    " \n",
    "This means that the density of probability at a particular value of X can be calculated using this function. The PDF is a continuous function because there are an infinite number of possible values for X, and it is not possible to count them all."
   ]
  },
  {
   "cell_type": "markdown",
   "id": "bbf55b93",
   "metadata": {},
   "source": [
    "# Q2) What is Cumulative Density Function (CDF)? Explain with an example. Why CDF is used?"
   ]
  },
  {
   "cell_type": "markdown",
   "id": "31147d01",
   "metadata": {},
   "source": [
    "## Answer :-"
   ]
  },
  {
   "cell_type": "markdown",
   "id": "ea6f89d9",
   "metadata": {},
   "source": [
    "A Cumulative Density Function (CDF) is a mathematical function that describes the probability distribution of a random variable. It provides the cumulative probability that the random variable takes on a value less than or equal to a given value. In other words, it gives the probability that a random variable is less than or equal to a particular value.\n",
    "\n",
    "Mathematically, the CDF of a random variable X is denoted as F(x) and is defined as:\n",
    "\n",
    "F(x) = P(X ≤ x)\n",
    "\n",
    "where P denotes the probability. The CDF is typically defined for continuous random variables, but it can also be defined for discrete random variables.\n",
    "\n",
    "To illustrate with an example, let's consider a standard six-sided fair die. The random variable X represents the outcome of a single roll of the die. The CDF for this random variable can be calculated as follows:\n",
    "\n",
    "For x < 1: F(x) = P(X ≤ x) = 0 (since the minimum outcome of the die is 1)\n",
    "\n",
    "For 1 ≤ x < 2: F(x) = P(X ≤ x) = 1/6 (since there is one outcome, 1, out of six possible outcomes)\n",
    "\n",
    "For 2 ≤ x < 3: F(x) = P(X ≤ x) = 2/6 = 1/3 (since there are two outcomes, 1 and 2, out of six possible outcomes)\n",
    "\n",
    "Continuing this calculation for the remaining intervals, we can construct the complete CDF for the die.\n",
    "\n",
    "The CDF is used for various purposes in probability theory and statistics. Some key applications include:\n",
    "\n",
    "Probability calculation: The CDF provides a way to calculate the probability of a random variable falling within a given range or being less than or equal to a specific value.\n",
    "\n",
    "Quantile estimation: The CDF can be used to estimate quantiles, such as the median or percentiles, of a random variable. By inverting the CDF, we can determine the value for which a given probability is exceeded.\n",
    "\n",
    "Statistical inference: CDFs are used in hypothesis testing, where they help determine critical regions and calculate p-values.\n",
    "\n",
    "Distribution comparison: CDFs are useful for comparing different probability distributions to understand their similarities and differences."
   ]
  },
  {
   "cell_type": "markdown",
   "id": "2d077a8e",
   "metadata": {},
   "source": [
    "# Q3)  What are some examples of situations where the normal distribution might be used as a model? Explain how the parameters of the normal distribution relate to the shape of the distribution."
   ]
  },
  {
   "cell_type": "markdown",
   "id": "3573332a",
   "metadata": {},
   "source": [
    "## Answer :-"
   ]
  },
  {
   "cell_type": "markdown",
   "id": "fb17b6d4",
   "metadata": {},
   "source": [
    "### The normal distribution, also known as the Gaussian distribution, is a commonly used probability distribution that is used to model a wide variety of real-world phenomena. Here are some examples of situations where the normal distribution might be used as a model:\n",
    "Height of a population: The normal distribution can be used to model the heights of a population. In this case, the mean and standard deviation of the distribution would reflect the average height and the degree of variation in height, respectively.\n",
    "\n",
    "IQ scores: IQ scores are often modeled using the normal distribution. In this case, the mean and standard deviation would reflect the average IQ score and the degree of variation in IQ scores, respectively.\n",
    "\n",
    "Measurement errors: The normal distribution can be used to model measurement errors in scientific experiments. The mean of the distribution would be zero (since the errors are assumed to be random and unbiased), and the standard deviation would reflect the degree of variability in the errors.\n",
    "\n",
    "### The normal distribution is characterized by two parameters: the mean (μ) and the standard deviation (σ). The mean determines the location of the peak of the distribution, and the standard deviation determines the width of the distribution. Specifically, the greater the standard deviation, the wider the distribution will be.\n",
    "### The normal distribution is a bell-shaped curve that is symmetrical around the mean. About 68% of the data falls within one standard deviation of the mean, about 95% falls within two standard deviations of the mean, and about 99.7% falls within three standard deviations of the mean. These properties make the normal distribution a convenient model for a wide variety of real-world phenomena."
   ]
  },
  {
   "cell_type": "markdown",
   "id": "b28b7a65",
   "metadata": {},
   "source": [
    "# Q4)  Explain the importance of Normal Distribution. Give a few real-life examples of Normal Distribution."
   ]
  },
  {
   "cell_type": "markdown",
   "id": "125ea1cb",
   "metadata": {},
   "source": [
    "## Answer :-"
   ]
  },
  {
   "cell_type": "markdown",
   "id": "d4f9d744",
   "metadata": {},
   "source": [
    "\n",
    "### Normal distribution, also known as Gaussian distribution, is a probability distribution that is widely used in statistics, data analysis, and modeling. It is an important concept in statistics because many natural phenomena can be modeled using normal distributions.\n",
    "### The importance of normal distribution lies in its usefulness in approximating many real-world processes, allowing us to make predictions, estimate probabilities, and analyze data. The following are a few examples of real-life phenomena that can be modeled using normal distribution:\n",
    "Body temperature: The body temperature of a healthy human is normally distributed with an average of 98.6 degrees Fahrenheit and a standard deviation of about 0.7 degrees Farenheit.\n",
    "\n",
    "Reaction time: The reaction times of individuals can be modeled using normal distribution. Most people have an average reaction time, with fewer people having very fast or very slow reaction times.\n",
    "\n",
    "Annual rainfall: The amount of rainfall in a particular area over a year can be modeled using normal distribution, with most years having average rainfall and fewer years experiencing extreme droughts or floods.\n",
    "\n",
    "Hospital stays: The length of time a patient stays in a hospital can be modeled using normal distribution, with most patients staying for an average length of time and fewer patients having very short or very long stays.\n",
    "\n",
    "Income distribution: In many countries, income distribution can be modeled using a log-normal distribution, which is a variant of the normal distribution. This means that most people have an average income, with fewer people having very low or very high incomes.\n",
    "\n",
    "Test-retest reliability: In psychology, the test-retest reliability of psychological tests can be modeled using normal distribution. This measures the consistency of test scores when the same test is administered to the same individual on different occasions.\n",
    "\n",
    "### These are just a few examples of how normal distribution can be used to model a wide variety of real-life phenomena."
   ]
  },
  {
   "cell_type": "markdown",
   "id": "97ca2fb2",
   "metadata": {},
   "source": [
    "# Q5)  What is Bernoulli Distribution? Give an Example. What is the difference between Bernoulli Distribution and Binomial Distribution"
   ]
  },
  {
   "cell_type": "markdown",
   "id": "ab71b3df",
   "metadata": {},
   "source": [
    "## Answer :-"
   ]
  },
  {
   "cell_type": "markdown",
   "id": "cd7c3452",
   "metadata": {},
   "source": [
    "The Bernoulli distribution is a discrete probability distribution that models a single binary outcome, where the result can be either success (usually denoted as 1) or failure (usually denoted as 0). It is named after the Swiss mathematician Jacob Bernoulli.\n",
    "\n",
    "The Bernoulli distribution is characterized by a single parameter, p, which represents the probability of success. The probability mass function (PMF) of the Bernoulli distribution is given by:\n",
    "\n",
    "P(X = x) = p^x * (1-p)^(1-x)\n",
    "\n",
    "where X is the random variable representing the outcome, x can take the values of 0 or 1, and p is the probability of success.\n",
    "\n",
    "An example of the Bernoulli distribution is flipping a fair coin. If we define success as getting a head, then the Bernoulli distribution can be used to model the outcome of a single coin flip. Here, p would be 0.5 since the probability of getting a head is 0.5, and the probability of getting a tail (failure) is also 0.5.\n",
    "\n",
    "The difference between the Bernoulli distribution and the binomial distribution lies in the number of trials involved. While the Bernoulli distribution models a single binary outcome, the binomial distribution models the number of successes in a fixed number of independent Bernoulli trials.\n",
    "\n",
    "The binomial distribution is characterized by two parameters: the number of trials, n, and the probability of success, p. The probability mass function (PMF) of the binomial distribution is given by:\n",
    "\n",
    "P(X = k) = C(n, k) * p^k * (1-p)^(n-k)\n",
    "\n",
    "where X is the random variable representing the number of successes, k is the number of successes, n is the number of trials, p is the probability of success, and C(n, k) is the binomial coefficient, which represents the number of ways to choose k successes out of n trials.\n",
    "\n",
    "In essence, the Bernoulli distribution is a special case of the binomial distribution when the number of trials, n, is equal to 1. The binomial distribution allows us to calculate the probability of different numbers of successes in multiple independent Bernoulli trials, while the Bernoulli distribution focuses on a single binary outcome."
   ]
  },
  {
   "cell_type": "markdown",
   "id": "10c9a9a2",
   "metadata": {},
   "source": [
    "# Q6)  Consider a dataset with a mean of 50 and a standard deviation of 10. If we assume that the dataset is normally distributed, what is the probability that a randomly selected observation will be greater than 60? Use the appropriate formula and show your calculation"
   ]
  },
  {
   "cell_type": "markdown",
   "id": "3dbd2dce",
   "metadata": {},
   "source": [
    "## Answer :-"
   ]
  },
  {
   "cell_type": "markdown",
   "id": "35608a23",
   "metadata": {},
   "source": [
    "To calculate the probability that a randomly selected observation from a normally distributed dataset will be greater than 60, we need to use the standard normal distribution and convert the values into z-scores. The formula for calculating the z-score is:\n",
    "\n",
    "z = (x - μ) / σ\n",
    "\n",
    "where:\n",
    "\n",
    "z is the z-score\n",
    "x is the value we want to convert\n",
    "μ is the mean of the distribution\n",
    "σ is the standard deviation of the distribution\n",
    "In this case, we have μ = 50, σ = 10, and we want to find the probability that x > 60. We can calculate the z-score as follows:\n",
    "\n",
    "z = (60 - 50) / 10\n",
    "= 10 / 10\n",
    "= 1\n",
    "\n",
    "Once we have the z-score, we can use a standard normal distribution table or a statistical software to find the probability associated with that z-score. The probability that a randomly selected observation will be greater than 60 is equivalent to the probability of being to the right of 60 on the standard normal distribution curve.\n",
    "\n",
    "Using a standard normal distribution table or software, the probability associated with a z-score of 1 is approximately 0.8413. Therefore, the probability that a randomly selected observation will be greater than 60 is 0.8413, or 84.13% (rounded to two decimal places"
   ]
  },
  {
   "cell_type": "markdown",
   "id": "1e36093d",
   "metadata": {},
   "source": [
    "# Q7) Explain uniform Distribution with an example."
   ]
  },
  {
   "cell_type": "markdown",
   "id": "58659b1e",
   "metadata": {},
   "source": [
    "## Answer :-"
   ]
  },
  {
   "cell_type": "markdown",
   "id": "76beb024",
   "metadata": {},
   "source": [
    "Uniform distribution is a probability distribution where every possible outcome has an equal chance of occurring. This means that the values of a random variable are spread evenly over a given interval or range.\n",
    "A classic example of a uniform distribution is the roll of a fair die. The die has six faces, each labeled with a number from 1 to 6, and all the faces are equally likely to come up when the die is rolled. Therefore, the probability of each outcome is 1/6, and this distribution is called a discrete uniform distribution.\n",
    "Lottery or raffle draws - If a lottery or raffle is conducted fairly, where each ticket has an equal chance of being drawn, the distribution of winning ticket numbers follows a discrete uniform distribution."
   ]
  },
  {
   "cell_type": "markdown",
   "id": "aaeecf85",
   "metadata": {},
   "source": [
    "# Q8) What is the Z score? State the importance of the Z score."
   ]
  },
  {
   "cell_type": "markdown",
   "id": "0bd94e4d",
   "metadata": {},
   "source": [
    "## Answer :-"
   ]
  },
  {
   "cell_type": "markdown",
   "id": "fb51be60",
   "metadata": {},
   "source": [
    "The Z-score, also known as the standard score, is a statistical measure that quantifies the distance between a data point and the mean of a distribution, relative to the standard deviation. It standardizes data by expressing it in terms of how many standard deviations it is away from the mean.\n",
    "\n",
    "Mathematically, the Z-score of a data point x, with a mean (μ) and standard deviation (σ), is calculated as:\n",
    "\n",
    "Z = (x - μ) / σ\n",
    "\n",
    "The importance of the Z-score lies in its ability to provide a standardized value that allows comparisons and assessments across different datasets or distributions. Here are a few key reasons why the Z-score is valuable:\n",
    "\n",
    "Standardization: The Z-score transforms data into a common scale, allowing for comparisons and analyses across different datasets with varying units and scales. It enables researchers and analysts to make meaningful comparisons and draw conclusions based on standardized values.\n",
    "\n",
    "Relative position: The Z-score indicates the relative position of a data point within a distribution. A positive Z-score means the data point is above the mean, while a negative Z-score indicates it is below the mean. The magnitude of the Z-score indicates how far away the data point is from the mean.\n",
    "\n",
    "Probability estimation: Z-scores are widely used in probability calculations and hypothesis testing. By converting data points into Z-scores, one can determine the probability of observing a value as extreme or more extreme than the given data point under a specific distribution assumption, such as the standard normal distribution.\n",
    "\n",
    "Outlier detection: Z-scores can be used to identify outliers in a dataset. Data points with Z-scores that exceed a certain threshold, typically beyond ±2 or ±3, are considered unusually high or low and may be classified as outliers.\n",
    "\n",
    "Data normalization: The Z-score is often employed in data preprocessing and normalization techniques. By standardizing variables using their Z-scores, data can be transformed to have zero mean and unit standard deviation, making it suitable for certain analyses and modeling techniques."
   ]
  },
  {
   "cell_type": "markdown",
   "id": "476eb8f5",
   "metadata": {},
   "source": [
    "# Q9) What is Central Limit Theorem? State the significance of the Central Limit Theorem"
   ]
  },
  {
   "cell_type": "markdown",
   "id": "ae5cef6a",
   "metadata": {},
   "source": [
    "## Answer :-"
   ]
  },
  {
   "cell_type": "markdown",
   "id": "67056183",
   "metadata": {},
   "source": [
    "### The Central Limit Theorem (CLT) is a fundamental concept in statistics that describes the behavior of the means of a large number of independent and identically distributed random variables, regardless of the distribution of the underlying variables.\n",
    "### The Central Limit Theorem states that if we take a large number of random samples from any distribution with a finite mean and variance, the sampling distribution of the means will be approximately normally distributed, regardless of the shape of the original distribution. This means that the means of the samples will tend to cluster around the true population mean, and the spread of the distribution of means will be reduced as the sample size increases.\n",
    "### The significance of the Central Limit Theorem lies in its wide applicability in statistics and its practical implications. Some of the important applications of the Central Limit Theorem are:\n",
    "    Hypothesis testing - The Central Limit Theorem is used to test hypotheses about the means of populations, where the distribution of the population is unknown or non-normal.\n",
    "\n",
    "    Confidence intervals - The Central Limit Theorem is used to construct confidence intervals for the population mean, which helps in estimating the true mean of a population based on a sample mean.\n",
    "\n",
    "    Sample size determination - The Central Limit Theorem is used to determine the sample size required for a given level of precision in estimating the population mean.\n",
    "\n",
    "    Quality control - The Central Limit Theorem is used to monitor the quality of production processes by measuring the means of samples and comparing them to the population mean.\n",
    "\n",
    "### In summary, the Central Limit Theorem is an essential concept in statistics that enables us to make inferences about populations based on samples, regardless of the underlying distribution of the data. It has important applications in various fields, making it a crucial tool for data analysis and decision-making."
   ]
  },
  {
   "cell_type": "markdown",
   "id": "1cdd3cb6",
   "metadata": {},
   "source": [
    "# Q10)  State the assumptions of the Central Limit Theorem."
   ]
  },
  {
   "cell_type": "markdown",
   "id": "a37684f5",
   "metadata": {},
   "source": [
    "## Answer :-"
   ]
  },
  {
   "cell_type": "markdown",
   "id": "084e930a",
   "metadata": {},
   "source": [
    "### The Central Limit Theorem (CLT) has some assumptions that need to be satisfied for it to hold. The assumptions of the Central Limit Theorem are as follows:\n",
    "    Independence - The samples must be independent of each other. In other words, the value of one sample should not depend on the value of another sample.\n",
    "\n",
    "1) Sample size - The sample size should be large enough. Generally, a sample size of at least 30 is considered to be large enough for the Central Limit Theorem to hold.\n",
    "\n",
    "2) Random sampling - The samples should be selected randomly from the population.\n",
    "\n",
    "3) Finite population or replacement - The population should be finite or the sampling should be done with replacement. If the population is infinite and the sampling is done without replacement, then the Central Limit Theorem may not hold.\n",
    "\n",
    "4) Finite mean and variance - The population should have a finite mean and variance. If the mean or variance is infinite, then the Central Limit Theorem may not hold.\n",
    "\n",
    "### If these assumptions are satisfied, then the Central Limit Theorem can be applied to the data to make inferences about the population mean or other parameters. It is important to note that violating any of these assumptions can lead to incorrect results, so it is essential to check the validity of the assumptions before applying the Central Limit Theorem."
   ]
  },
  {
   "cell_type": "code",
   "execution_count": null,
   "id": "99135f9e",
   "metadata": {},
   "outputs": [],
   "source": []
  }
 ],
 "metadata": {
  "kernelspec": {
   "display_name": "Python 3 (ipykernel)",
   "language": "python",
   "name": "python3"
  },
  "language_info": {
   "codemirror_mode": {
    "name": "ipython",
    "version": 3
   },
   "file_extension": ".py",
   "mimetype": "text/x-python",
   "name": "python",
   "nbconvert_exporter": "python",
   "pygments_lexer": "ipython3",
   "version": "3.9.7"
  }
 },
 "nbformat": 4,
 "nbformat_minor": 5
}
